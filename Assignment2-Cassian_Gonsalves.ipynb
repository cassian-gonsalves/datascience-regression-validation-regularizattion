{
 "cells": [
  {
   "cell_type": "markdown",
   "metadata": {},
   "source": [
    "# Linear Models - Data Science Assignment 2"
   ]
  },
  {
   "cell_type": "markdown",
   "metadata": {},
   "source": [
    "# Contents\n",
    "\n",
    "- <a href='#1'>1. Abstract</a>\n",
    "- <a href='#2'>2. Exploratory Data Analysis</a>\n",
    "    - <a href='#2.1'>2.1 Data Cleaning</a>\n",
    "    - <a href='#2.2'>2.2 Data Visualization and Multi-colinearity Check</a>\n",
    "- <a href='#3'>3. Part A - Linear model</a> \n",
    "- <a href='#4'>4. Part B - Logistic model</a> \n",
    "- <a href='#5'>5. Part C - Multi-colinearity and step-wise Regression</a> \n",
    "- <a href='#6'>6. Part D - Interaction effects</a>\n",
    "- <a href='#7'>7. Part E - L2 Regularization</a>\n",
    "- <a href='#8'>8. Conclusion</a>\n",
    "- <a href='#9'>9. Contributions statement</a>\n",
    "- <a href='#10'>10. Citations</a>\n",
    "- <a href='#11'>11. License</a>"
   ]
  },
  {
   "cell_type": "markdown",
   "metadata": {},
   "source": [
    "# <a id='1'>1. Abstract</a>\n",
    "\n",
    "**The purpose of this notebook is to create predictive linear model using both linear and logistic regression. The dataset used is taken from the UCI Machine Learning Repository related to white wine quality. The task is to predict quality of wine based on several parameters, generate different models by taking multiple and different columns into consideration and analyze the models**\n",
    "\n"
   ]
  },
  {
   "cell_type": "markdown",
   "metadata": {},
   "source": [
    "# <a id='2'>2. Exploratory Data Analysis</a>"
   ]
  },
  {
   "cell_type": "markdown",
   "metadata": {},
   "source": [
    "<a id=\"2.1\">****2.1 Data Cleaning****</a>\n"
   ]
  },
  {
   "cell_type": "markdown",
   "metadata": {},
   "source": [
    "## Auditing and cleansing the loaded data\n",
    "In this task, we are inspecting and auditind the data to identify the data problems, and then fix the problems. Different generic and major data problems could be found in the data might include:\n",
    "* Lexical errors, e.g., typos and spelling mistakes\n",
    "* Irregularities, e.g., abnormal data values and data formats\n",
    "* Violations of the Integrity constraint.\n",
    "* Outliers\n",
    "* Duplications\n",
    "* Missing values\n",
    "* Inconsistency, e.g., inhomogeneity in values and types in representing the same data"
   ]
  },
  {
   "cell_type": "markdown",
   "metadata": {},
   "source": [
    "**Importing Libraries**<br>\n",
    "Python environment comes with number of in-build analytical purpose libraries following are some of the libraries that will be required along with brief description of certain Libraries"
   ]
  },
  {
   "cell_type": "code",
   "execution_count": 1,
   "metadata": {},
   "outputs": [
    {
     "name": "stdout",
     "output_type": "stream",
     "text": [
      "['.DS_Store', '.gitignore', 'assignment-1-cassian-gonsalves', 'assignment-2-cassian-gonsalves', 'assignment-3-kaggle-cassian-gonsalves', 'hyperparameter-db-project-ds18']\n"
     ]
    }
   ],
   "source": [
    "# importing libraries\n",
    "import matplotlib.pyplot as plt #Used to make change to a figure (Create, Plot, Decorate) \n",
    "import numpy as np              # Linear Algebra Library    \n",
    "import pandas as pd             # Data Processing, CSV file Input/Output\n",
    "from scipy import stats         #Statistical Functions\n",
    "import seaborn as sns           # visualization tool\n",
    "import warnings                 # Ignore Future Warnings\n",
    "warnings.filterwarnings(\"ignore\", category=FutureWarning)\n",
    "\n",
    "from patsy import dmatrices     # To find out data matrix\n",
    "from statsmodels.stats.outliers_influence import variance_inflation_factor # to check variance inflation Factor\n",
    "\n",
    "import statsmodels.api as sm #Statistics\n",
    "from sklearn import linear_model \n",
    "from sklearn.preprocessing import LabelEncoder\n",
    "from sklearn.model_selection import train_test_split, cross_val_score # divide the data into train test and split\n",
    "#Perform and build linear, Logistic Model and calculate ridge factor\n",
    "from sklearn.linear_model import LinearRegression, LogisticRegression, Ridge \n",
    "from sklearn.metrics import mean_squared_error,accuracy_score, r2_score, make_scorer\n",
    "#Cross Validation usinf Kfold\n",
    "from sklearn.model_selection import KFold\n",
    "\n",
    "import os \n",
    "print(os.listdir(\"..\")) #List the files in the root directory\n",
    "# Any results you write to the current directory are saved as output."
   ]
  },
  {
   "cell_type": "markdown",
   "metadata": {},
   "source": [
    "**Importing Data Set**\n",
    "\n",
    "**Source:** The Dataset is taken from https://archive.ics.uci.edu/ml/machine-learning-databases/wine-quality/ which is an open source free machine learning Data set repository. \n"
   ]
  },
  {
   "cell_type": "code",
   "execution_count": 2,
   "metadata": {},
   "outputs": [],
   "source": [
    "# importing the dataset .csv file from root folder\n",
    "df_white=pd.read_csv(\"winequality-white.csv\")"
   ]
  },
  {
   "cell_type": "code",
   "execution_count": 3,
   "metadata": {},
   "outputs": [
    {
     "data": {
      "text/html": [
       "<div>\n",
       "<style scoped>\n",
       "    .dataframe tbody tr th:only-of-type {\n",
       "        vertical-align: middle;\n",
       "    }\n",
       "\n",
       "    .dataframe tbody tr th {\n",
       "        vertical-align: top;\n",
       "    }\n",
       "\n",
       "    .dataframe thead th {\n",
       "        text-align: right;\n",
       "    }\n",
       "</style>\n",
       "<table border=\"1\" class=\"dataframe\">\n",
       "  <thead>\n",
       "    <tr style=\"text-align: right;\">\n",
       "      <th></th>\n",
       "      <th>fixed acidity</th>\n",
       "      <th>volatile acidity</th>\n",
       "      <th>citric acid</th>\n",
       "      <th>residual sugar</th>\n",
       "      <th>chlorides</th>\n",
       "      <th>free sulfur dioxide</th>\n",
       "      <th>total sulfur dioxide</th>\n",
       "      <th>density</th>\n",
       "      <th>pH</th>\n",
       "      <th>sulphates</th>\n",
       "      <th>alcohol</th>\n",
       "      <th>quality</th>\n",
       "    </tr>\n",
       "  </thead>\n",
       "  <tbody>\n",
       "    <tr>\n",
       "      <th>0</th>\n",
       "      <td>7.0</td>\n",
       "      <td>0.27</td>\n",
       "      <td>0.36</td>\n",
       "      <td>20.7</td>\n",
       "      <td>0.045</td>\n",
       "      <td>45.0</td>\n",
       "      <td>170.0</td>\n",
       "      <td>1.0010</td>\n",
       "      <td>3.00</td>\n",
       "      <td>0.45</td>\n",
       "      <td>8.8</td>\n",
       "      <td>6</td>\n",
       "    </tr>\n",
       "    <tr>\n",
       "      <th>1</th>\n",
       "      <td>6.3</td>\n",
       "      <td>0.30</td>\n",
       "      <td>0.34</td>\n",
       "      <td>1.6</td>\n",
       "      <td>0.049</td>\n",
       "      <td>14.0</td>\n",
       "      <td>132.0</td>\n",
       "      <td>0.9940</td>\n",
       "      <td>3.30</td>\n",
       "      <td>0.49</td>\n",
       "      <td>9.5</td>\n",
       "      <td>6</td>\n",
       "    </tr>\n",
       "    <tr>\n",
       "      <th>2</th>\n",
       "      <td>8.1</td>\n",
       "      <td>0.28</td>\n",
       "      <td>0.40</td>\n",
       "      <td>6.9</td>\n",
       "      <td>0.050</td>\n",
       "      <td>30.0</td>\n",
       "      <td>97.0</td>\n",
       "      <td>0.9951</td>\n",
       "      <td>3.26</td>\n",
       "      <td>0.44</td>\n",
       "      <td>10.1</td>\n",
       "      <td>6</td>\n",
       "    </tr>\n",
       "    <tr>\n",
       "      <th>3</th>\n",
       "      <td>7.2</td>\n",
       "      <td>0.23</td>\n",
       "      <td>0.32</td>\n",
       "      <td>8.5</td>\n",
       "      <td>0.058</td>\n",
       "      <td>47.0</td>\n",
       "      <td>186.0</td>\n",
       "      <td>0.9956</td>\n",
       "      <td>3.19</td>\n",
       "      <td>0.40</td>\n",
       "      <td>9.9</td>\n",
       "      <td>6</td>\n",
       "    </tr>\n",
       "    <tr>\n",
       "      <th>4</th>\n",
       "      <td>7.2</td>\n",
       "      <td>0.23</td>\n",
       "      <td>0.32</td>\n",
       "      <td>8.5</td>\n",
       "      <td>0.058</td>\n",
       "      <td>47.0</td>\n",
       "      <td>186.0</td>\n",
       "      <td>0.9956</td>\n",
       "      <td>3.19</td>\n",
       "      <td>0.40</td>\n",
       "      <td>9.9</td>\n",
       "      <td>6</td>\n",
       "    </tr>\n",
       "  </tbody>\n",
       "</table>\n",
       "</div>"
      ],
      "text/plain": [
       "   fixed acidity  volatile acidity  citric acid  residual sugar  chlorides  \\\n",
       "0            7.0              0.27         0.36            20.7      0.045   \n",
       "1            6.3              0.30         0.34             1.6      0.049   \n",
       "2            8.1              0.28         0.40             6.9      0.050   \n",
       "3            7.2              0.23         0.32             8.5      0.058   \n",
       "4            7.2              0.23         0.32             8.5      0.058   \n",
       "\n",
       "   free sulfur dioxide  total sulfur dioxide  density    pH  sulphates  \\\n",
       "0                 45.0                 170.0   1.0010  3.00       0.45   \n",
       "1                 14.0                 132.0   0.9940  3.30       0.49   \n",
       "2                 30.0                  97.0   0.9951  3.26       0.44   \n",
       "3                 47.0                 186.0   0.9956  3.19       0.40   \n",
       "4                 47.0                 186.0   0.9956  3.19       0.40   \n",
       "\n",
       "   alcohol  quality  \n",
       "0      8.8        6  \n",
       "1      9.5        6  \n",
       "2     10.1        6  \n",
       "3      9.9        6  \n",
       "4      9.9        6  "
      ]
     },
     "execution_count": 3,
     "metadata": {},
     "output_type": "execute_result"
    }
   ],
   "source": [
    "#Lists the top 5 records in the imported csv dataset file\n",
    "df_white.head()"
   ]
  },
  {
   "cell_type": "code",
   "execution_count": 4,
   "metadata": {},
   "outputs": [],
   "source": [
    "#Changing column names: replacing empty spaces with _ to avoid programming bugs\n",
    "df_white.rename(columns={'fixed acidity': 'fixed_acidity','citric acid':'citric_acid','volatile acidity':'volatile_acidity','residual sugar':'residual_sugar','free sulfur dioxide':'free_sulfur_dioxide','total sulfur dioxide':'total_sulfur_dioxide'}, inplace=True)\n",
    "\n"
   ]
  },
  {
   "cell_type": "code",
   "execution_count": 5,
   "metadata": {},
   "outputs": [
    {
     "data": {
      "text/plain": [
       "(8.0, 14.2)"
      ]
     },
     "execution_count": 5,
     "metadata": {},
     "output_type": "execute_result"
    }
   ],
   "source": [
    "from sklearn.exceptions import DataConversionWarning\n",
    "warnings.filterwarnings(action='ignore', category=DataConversionWarning)\n",
    "# Finding the range of alcohol to divide it into multiclass variable\n",
    "min(df_white[\"alcohol\"]), max(df_white[\"alcohol\"])"
   ]
  },
  {
   "cell_type": "code",
   "execution_count": 6,
   "metadata": {},
   "outputs": [
    {
     "data": {
      "text/html": [
       "<div>\n",
       "<style scoped>\n",
       "    .dataframe tbody tr th:only-of-type {\n",
       "        vertical-align: middle;\n",
       "    }\n",
       "\n",
       "    .dataframe tbody tr th {\n",
       "        vertical-align: top;\n",
       "    }\n",
       "\n",
       "    .dataframe thead th {\n",
       "        text-align: right;\n",
       "    }\n",
       "</style>\n",
       "<table border=\"1\" class=\"dataframe\">\n",
       "  <thead>\n",
       "    <tr style=\"text-align: right;\">\n",
       "      <th></th>\n",
       "      <th>fixed_acidity</th>\n",
       "      <th>volatile_acidity</th>\n",
       "      <th>citric_acid</th>\n",
       "      <th>residual_sugar</th>\n",
       "      <th>chlorides</th>\n",
       "      <th>free_sulfur_dioxide</th>\n",
       "      <th>total_sulfur_dioxide</th>\n",
       "      <th>density</th>\n",
       "      <th>pH</th>\n",
       "      <th>sulphates</th>\n",
       "      <th>alcohol</th>\n",
       "      <th>quality</th>\n",
       "    </tr>\n",
       "  </thead>\n",
       "  <tbody>\n",
       "    <tr>\n",
       "      <th>0</th>\n",
       "      <td>7.0</td>\n",
       "      <td>0.27</td>\n",
       "      <td>0.36</td>\n",
       "      <td>20.7</td>\n",
       "      <td>0.045</td>\n",
       "      <td>45.0</td>\n",
       "      <td>170.0</td>\n",
       "      <td>1.0010</td>\n",
       "      <td>3.00</td>\n",
       "      <td>0.45</td>\n",
       "      <td>8.8</td>\n",
       "      <td>6</td>\n",
       "    </tr>\n",
       "    <tr>\n",
       "      <th>1</th>\n",
       "      <td>6.3</td>\n",
       "      <td>0.30</td>\n",
       "      <td>0.34</td>\n",
       "      <td>1.6</td>\n",
       "      <td>0.049</td>\n",
       "      <td>14.0</td>\n",
       "      <td>132.0</td>\n",
       "      <td>0.9940</td>\n",
       "      <td>3.30</td>\n",
       "      <td>0.49</td>\n",
       "      <td>9.5</td>\n",
       "      <td>6</td>\n",
       "    </tr>\n",
       "    <tr>\n",
       "      <th>2</th>\n",
       "      <td>8.1</td>\n",
       "      <td>0.28</td>\n",
       "      <td>0.40</td>\n",
       "      <td>6.9</td>\n",
       "      <td>0.050</td>\n",
       "      <td>30.0</td>\n",
       "      <td>97.0</td>\n",
       "      <td>0.9951</td>\n",
       "      <td>3.26</td>\n",
       "      <td>0.44</td>\n",
       "      <td>10.1</td>\n",
       "      <td>6</td>\n",
       "    </tr>\n",
       "    <tr>\n",
       "      <th>3</th>\n",
       "      <td>7.2</td>\n",
       "      <td>0.23</td>\n",
       "      <td>0.32</td>\n",
       "      <td>8.5</td>\n",
       "      <td>0.058</td>\n",
       "      <td>47.0</td>\n",
       "      <td>186.0</td>\n",
       "      <td>0.9956</td>\n",
       "      <td>3.19</td>\n",
       "      <td>0.40</td>\n",
       "      <td>9.9</td>\n",
       "      <td>6</td>\n",
       "    </tr>\n",
       "    <tr>\n",
       "      <th>4</th>\n",
       "      <td>7.2</td>\n",
       "      <td>0.23</td>\n",
       "      <td>0.32</td>\n",
       "      <td>8.5</td>\n",
       "      <td>0.058</td>\n",
       "      <td>47.0</td>\n",
       "      <td>186.0</td>\n",
       "      <td>0.9956</td>\n",
       "      <td>3.19</td>\n",
       "      <td>0.40</td>\n",
       "      <td>9.9</td>\n",
       "      <td>6</td>\n",
       "    </tr>\n",
       "  </tbody>\n",
       "</table>\n",
       "</div>"
      ],
      "text/plain": [
       "   fixed_acidity  volatile_acidity  citric_acid  residual_sugar  chlorides  \\\n",
       "0            7.0              0.27         0.36            20.7      0.045   \n",
       "1            6.3              0.30         0.34             1.6      0.049   \n",
       "2            8.1              0.28         0.40             6.9      0.050   \n",
       "3            7.2              0.23         0.32             8.5      0.058   \n",
       "4            7.2              0.23         0.32             8.5      0.058   \n",
       "\n",
       "   free_sulfur_dioxide  total_sulfur_dioxide  density    pH  sulphates  \\\n",
       "0                 45.0                 170.0   1.0010  3.00       0.45   \n",
       "1                 14.0                 132.0   0.9940  3.30       0.49   \n",
       "2                 30.0                  97.0   0.9951  3.26       0.44   \n",
       "3                 47.0                 186.0   0.9956  3.19       0.40   \n",
       "4                 47.0                 186.0   0.9956  3.19       0.40   \n",
       "\n",
       "   alcohol  quality  \n",
       "0      8.8        6  \n",
       "1      9.5        6  \n",
       "2     10.1        6  \n",
       "3      9.9        6  \n",
       "4      9.9        6  "
      ]
     },
     "execution_count": 6,
     "metadata": {},
     "output_type": "execute_result"
    }
   ],
   "source": [
    "df_white.head()"
   ]
  },
  {
   "cell_type": "markdown",
   "metadata": {},
   "source": [
    "**Checking for nan/empty values**"
   ]
  },
  {
   "cell_type": "code",
   "execution_count": 7,
   "metadata": {},
   "outputs": [
    {
     "data": {
      "text/plain": [
       "fixed_acidity           0\n",
       "volatile_acidity        0\n",
       "citric_acid             0\n",
       "residual_sugar          0\n",
       "chlorides               0\n",
       "free_sulfur_dioxide     0\n",
       "total_sulfur_dioxide    0\n",
       "density                 0\n",
       "pH                      0\n",
       "sulphates               0\n",
       "alcohol                 0\n",
       "quality                 0\n",
       "dtype: int64"
      ]
     },
     "execution_count": 7,
     "metadata": {},
     "output_type": "execute_result"
    }
   ],
   "source": [
    "df_white.isnull().sum()"
   ]
  },
  {
   "cell_type": "code",
   "execution_count": 8,
   "metadata": {},
   "outputs": [
    {
     "data": {
      "text/html": [
       "<div>\n",
       "<style scoped>\n",
       "    .dataframe tbody tr th:only-of-type {\n",
       "        vertical-align: middle;\n",
       "    }\n",
       "\n",
       "    .dataframe tbody tr th {\n",
       "        vertical-align: top;\n",
       "    }\n",
       "\n",
       "    .dataframe thead th {\n",
       "        text-align: right;\n",
       "    }\n",
       "</style>\n",
       "<table border=\"1\" class=\"dataframe\">\n",
       "  <thead>\n",
       "    <tr style=\"text-align: right;\">\n",
       "      <th></th>\n",
       "      <th>fixed_acidity</th>\n",
       "      <th>volatile_acidity</th>\n",
       "      <th>citric_acid</th>\n",
       "      <th>residual_sugar</th>\n",
       "      <th>chlorides</th>\n",
       "      <th>free_sulfur_dioxide</th>\n",
       "      <th>total_sulfur_dioxide</th>\n",
       "      <th>density</th>\n",
       "      <th>pH</th>\n",
       "      <th>sulphates</th>\n",
       "      <th>alcohol</th>\n",
       "      <th>quality</th>\n",
       "    </tr>\n",
       "  </thead>\n",
       "  <tbody>\n",
       "    <tr>\n",
       "      <th>count</th>\n",
       "      <td>4898.000000</td>\n",
       "      <td>4898.000000</td>\n",
       "      <td>4898.000000</td>\n",
       "      <td>4898.000000</td>\n",
       "      <td>4898.000000</td>\n",
       "      <td>4898.000000</td>\n",
       "      <td>4898.000000</td>\n",
       "      <td>4898.000000</td>\n",
       "      <td>4898.000000</td>\n",
       "      <td>4898.000000</td>\n",
       "      <td>4898.000000</td>\n",
       "      <td>4898.000000</td>\n",
       "    </tr>\n",
       "    <tr>\n",
       "      <th>mean</th>\n",
       "      <td>6.854788</td>\n",
       "      <td>0.278241</td>\n",
       "      <td>0.334192</td>\n",
       "      <td>6.391415</td>\n",
       "      <td>0.045772</td>\n",
       "      <td>35.308085</td>\n",
       "      <td>138.360657</td>\n",
       "      <td>0.994027</td>\n",
       "      <td>3.188267</td>\n",
       "      <td>0.489847</td>\n",
       "      <td>10.514267</td>\n",
       "      <td>5.877909</td>\n",
       "    </tr>\n",
       "    <tr>\n",
       "      <th>std</th>\n",
       "      <td>0.843868</td>\n",
       "      <td>0.100795</td>\n",
       "      <td>0.121020</td>\n",
       "      <td>5.072058</td>\n",
       "      <td>0.021848</td>\n",
       "      <td>17.007137</td>\n",
       "      <td>42.498065</td>\n",
       "      <td>0.002991</td>\n",
       "      <td>0.151001</td>\n",
       "      <td>0.114126</td>\n",
       "      <td>1.230621</td>\n",
       "      <td>0.885639</td>\n",
       "    </tr>\n",
       "    <tr>\n",
       "      <th>min</th>\n",
       "      <td>3.800000</td>\n",
       "      <td>0.080000</td>\n",
       "      <td>0.000000</td>\n",
       "      <td>0.600000</td>\n",
       "      <td>0.009000</td>\n",
       "      <td>2.000000</td>\n",
       "      <td>9.000000</td>\n",
       "      <td>0.987110</td>\n",
       "      <td>2.720000</td>\n",
       "      <td>0.220000</td>\n",
       "      <td>8.000000</td>\n",
       "      <td>3.000000</td>\n",
       "    </tr>\n",
       "    <tr>\n",
       "      <th>25%</th>\n",
       "      <td>6.300000</td>\n",
       "      <td>0.210000</td>\n",
       "      <td>0.270000</td>\n",
       "      <td>1.700000</td>\n",
       "      <td>0.036000</td>\n",
       "      <td>23.000000</td>\n",
       "      <td>108.000000</td>\n",
       "      <td>0.991723</td>\n",
       "      <td>3.090000</td>\n",
       "      <td>0.410000</td>\n",
       "      <td>9.500000</td>\n",
       "      <td>5.000000</td>\n",
       "    </tr>\n",
       "    <tr>\n",
       "      <th>50%</th>\n",
       "      <td>6.800000</td>\n",
       "      <td>0.260000</td>\n",
       "      <td>0.320000</td>\n",
       "      <td>5.200000</td>\n",
       "      <td>0.043000</td>\n",
       "      <td>34.000000</td>\n",
       "      <td>134.000000</td>\n",
       "      <td>0.993740</td>\n",
       "      <td>3.180000</td>\n",
       "      <td>0.470000</td>\n",
       "      <td>10.400000</td>\n",
       "      <td>6.000000</td>\n",
       "    </tr>\n",
       "    <tr>\n",
       "      <th>75%</th>\n",
       "      <td>7.300000</td>\n",
       "      <td>0.320000</td>\n",
       "      <td>0.390000</td>\n",
       "      <td>9.900000</td>\n",
       "      <td>0.050000</td>\n",
       "      <td>46.000000</td>\n",
       "      <td>167.000000</td>\n",
       "      <td>0.996100</td>\n",
       "      <td>3.280000</td>\n",
       "      <td>0.550000</td>\n",
       "      <td>11.400000</td>\n",
       "      <td>6.000000</td>\n",
       "    </tr>\n",
       "    <tr>\n",
       "      <th>max</th>\n",
       "      <td>14.200000</td>\n",
       "      <td>1.100000</td>\n",
       "      <td>1.660000</td>\n",
       "      <td>65.800000</td>\n",
       "      <td>0.346000</td>\n",
       "      <td>289.000000</td>\n",
       "      <td>440.000000</td>\n",
       "      <td>1.038980</td>\n",
       "      <td>3.820000</td>\n",
       "      <td>1.080000</td>\n",
       "      <td>14.200000</td>\n",
       "      <td>9.000000</td>\n",
       "    </tr>\n",
       "  </tbody>\n",
       "</table>\n",
       "</div>"
      ],
      "text/plain": [
       "       fixed_acidity  volatile_acidity  citric_acid  residual_sugar  \\\n",
       "count    4898.000000       4898.000000  4898.000000     4898.000000   \n",
       "mean        6.854788          0.278241     0.334192        6.391415   \n",
       "std         0.843868          0.100795     0.121020        5.072058   \n",
       "min         3.800000          0.080000     0.000000        0.600000   \n",
       "25%         6.300000          0.210000     0.270000        1.700000   \n",
       "50%         6.800000          0.260000     0.320000        5.200000   \n",
       "75%         7.300000          0.320000     0.390000        9.900000   \n",
       "max        14.200000          1.100000     1.660000       65.800000   \n",
       "\n",
       "         chlorides  free_sulfur_dioxide  total_sulfur_dioxide      density  \\\n",
       "count  4898.000000          4898.000000           4898.000000  4898.000000   \n",
       "mean      0.045772            35.308085            138.360657     0.994027   \n",
       "std       0.021848            17.007137             42.498065     0.002991   \n",
       "min       0.009000             2.000000              9.000000     0.987110   \n",
       "25%       0.036000            23.000000            108.000000     0.991723   \n",
       "50%       0.043000            34.000000            134.000000     0.993740   \n",
       "75%       0.050000            46.000000            167.000000     0.996100   \n",
       "max       0.346000           289.000000            440.000000     1.038980   \n",
       "\n",
       "                pH    sulphates      alcohol      quality  \n",
       "count  4898.000000  4898.000000  4898.000000  4898.000000  \n",
       "mean      3.188267     0.489847    10.514267     5.877909  \n",
       "std       0.151001     0.114126     1.230621     0.885639  \n",
       "min       2.720000     0.220000     8.000000     3.000000  \n",
       "25%       3.090000     0.410000     9.500000     5.000000  \n",
       "50%       3.180000     0.470000    10.400000     6.000000  \n",
       "75%       3.280000     0.550000    11.400000     6.000000  \n",
       "max       3.820000     1.080000    14.200000     9.000000  "
      ]
     },
     "execution_count": 8,
     "metadata": {},
     "output_type": "execute_result"
    }
   ],
   "source": [
    "df_white.describe()\n",
    "\n",
    "#fixed acidity - 25% - 7.1 and 50% - 7.9. Not much of a variance. Could explain the huge number of outliers\n",
    "#volatile acididty - similar reasoning\n",
    "#citric acid - seems to be somewhat uniformly distributed\n",
    "#residual sugar - min - 0.9, max - 15!! Waaaaay too much difference. Could explain the outliers.\n",
    "#chlorides - same as residual sugar. Min - 0.012, max - 0.611\n",
    "#free sulfur dioxide, total suflur dioxide - same explanation as above"
   ]
  },
  {
   "cell_type": "code",
   "execution_count": 9,
   "metadata": {},
   "outputs": [
    {
     "name": "stdout",
     "output_type": "stream",
     "text": [
      "white mean =  5.87790935075541\n"
     ]
    }
   ],
   "source": [
    "print(\"white mean = \",df_white[\"quality\"].mean()) #checking the mean of the quality"
   ]
  },
  {
   "cell_type": "markdown",
   "metadata": {},
   "source": [
    "Nothing looks particularly out of place that is there are no empty values/negitive values etc"
   ]
  },
  {
   "cell_type": "markdown",
   "metadata": {},
   "source": [
    "<a id=\"2.2\">****2.2 Data Visualization and Multi-colinearity Check****</a><br>\n",
    "\n",
    "Spearman correlation is used as there are ordinal data present in the dataset"
   ]
  },
  {
   "cell_type": "markdown",
   "metadata": {},
   "source": [
    "**Checking the correlation between different factors by plotting heat maps**"
   ]
  },
  {
   "cell_type": "code",
   "execution_count": 10,
   "metadata": {},
   "outputs": [
    {
     "data": {
      "text/plain": [
       "<matplotlib.axes._subplots.AxesSubplot at 0x1c1854e978>"
      ]
     },
     "execution_count": 10,
     "metadata": {},
     "output_type": "execute_result"
    },
    {
     "data": {
      "image/png": "[encoded data removed]",
      "text/plain": [
       "<Figure size 864x576 with 2 Axes>"
      ]
     },
     "metadata": {
      "needs_background": "light"
     },
     "output_type": "display_data"
    }
   ],
   "source": [
    "corrmat = df_white.corr()\n",
    "# Plotting heatmaps to check for factors that affect the most to GDP\n",
    "plt.figure(figsize=(12,8))\n",
    "\n",
    "#Generate Heat Map, allow annotations and place floats in map\n",
    "\n",
    "sns.heatmap(df_white.corr(method='spearman'),   # iloc-> primary integer position\n",
    "            annot=True,                  # annot-> numerical representation\n",
    "            fmt='.2f',cmap='coolwarm')  # String formatting code to use when adding annotations(fmt='.2f' -> till 2 decimals))           \n",
    "\n"
   ]
  },
  {
   "cell_type": "markdown",
   "metadata": {},
   "source": [
    "**Correlation among variables**\n",
    "<ul>\n",
    "<li>Quality is moderately correlated with alcohol</li>\n",
    "<li>Alcohol is moderately correlated with the density of wine apart from being moderaltely correlated with quality</li>\n",
    "<li>Density is strongly correlated with residual sugar quantity and moderately correlated with pH</li>\n",
    "<li>Free sulfur dioxide and total sulfur dioxide are strongly correlated</li>\n",
    "</ul>\n"
   ]
  },
  {
   "cell_type": "code",
   "execution_count": 11,
   "metadata": {},
   "outputs": [
    {
     "data": {
      "image/png": "[encoded data removed]",
      "text/plain": [
       "<Figure size 864x576 with 2 Axes>"
      ]
     },
     "metadata": {
      "needs_background": "light"
     },
     "output_type": "display_data"
    }
   ],
   "source": [
    "plt.figure(figsize=(12,8))\n",
    "k = 100 #number of variables for heatmap\n",
    "cols = corrmat.nlargest(k, 'quality')['quality'].index\n",
    "cm = np.corrcoef(df_white[cols].values.T)\n",
    "sns.set(font_scale=1.00)\n",
    "hm = sns.heatmap(cm, cbar=True, annot=True, square=True, fmt='.2f', annot_kws={'size': 10}, yticklabels=cols.values, xticklabels=cols.values)\n",
    "plt.show()"
   ]
  },
  {
   "cell_type": "code",
   "execution_count": 12,
   "metadata": {},
   "outputs": [
    {
     "data": {
      "text/html": [
       "<div>\n",
       "<style scoped>\n",
       "    .dataframe tbody tr th:only-of-type {\n",
       "        vertical-align: middle;\n",
       "    }\n",
       "\n",
       "    .dataframe tbody tr th {\n",
       "        vertical-align: top;\n",
       "    }\n",
       "\n",
       "    .dataframe thead th {\n",
       "        text-align: right;\n",
       "    }\n",
       "</style>\n",
       "<table border=\"1\" class=\"dataframe\">\n",
       "  <thead>\n",
       "    <tr style=\"text-align: right;\">\n",
       "      <th></th>\n",
       "      <th>Most Correlated Features</th>\n",
       "    </tr>\n",
       "  </thead>\n",
       "  <tbody>\n",
       "    <tr>\n",
       "      <th>0</th>\n",
       "      <td>quality</td>\n",
       "    </tr>\n",
       "    <tr>\n",
       "      <th>1</th>\n",
       "      <td>alcohol</td>\n",
       "    </tr>\n",
       "    <tr>\n",
       "      <th>2</th>\n",
       "      <td>pH</td>\n",
       "    </tr>\n",
       "    <tr>\n",
       "      <th>3</th>\n",
       "      <td>sulphates</td>\n",
       "    </tr>\n",
       "    <tr>\n",
       "      <th>4</th>\n",
       "      <td>free_sulfur_dioxide</td>\n",
       "    </tr>\n",
       "    <tr>\n",
       "      <th>5</th>\n",
       "      <td>citric_acid</td>\n",
       "    </tr>\n",
       "    <tr>\n",
       "      <th>6</th>\n",
       "      <td>residual_sugar</td>\n",
       "    </tr>\n",
       "    <tr>\n",
       "      <th>7</th>\n",
       "      <td>fixed_acidity</td>\n",
       "    </tr>\n",
       "    <tr>\n",
       "      <th>8</th>\n",
       "      <td>total_sulfur_dioxide</td>\n",
       "    </tr>\n",
       "    <tr>\n",
       "      <th>9</th>\n",
       "      <td>volatile_acidity</td>\n",
       "    </tr>\n",
       "    <tr>\n",
       "      <th>10</th>\n",
       "      <td>chlorides</td>\n",
       "    </tr>\n",
       "    <tr>\n",
       "      <th>11</th>\n",
       "      <td>density</td>\n",
       "    </tr>\n",
       "  </tbody>\n",
       "</table>\n",
       "</div>"
      ],
      "text/plain": [
       "   Most Correlated Features\n",
       "0                   quality\n",
       "1                   alcohol\n",
       "2                        pH\n",
       "3                 sulphates\n",
       "4       free_sulfur_dioxide\n",
       "5               citric_acid\n",
       "6            residual_sugar\n",
       "7             fixed_acidity\n",
       "8      total_sulfur_dioxide\n",
       "9          volatile_acidity\n",
       "10                chlorides\n",
       "11                  density"
      ]
     },
     "execution_count": 12,
     "metadata": {},
     "output_type": "execute_result"
    }
   ],
   "source": [
    "most_corr = pd.DataFrame(cols)\n",
    "most_corr.columns = ['Most Correlated Features']\n",
    "most_corr"
   ]
  },
  {
   "cell_type": "markdown",
   "metadata": {},
   "source": [
    "Thus we have to drop either one of the following to avoid multi-colinearity while building the models\n",
    "1. Free sulfur dioxide and total sulfur dioxide\n",
    "2. Density is strongly and sugar quantity"
   ]
  },
  {
   "cell_type": "markdown",
   "metadata": {},
   "source": [
    "**Plotting pairplots with help of seaborn to plot the regression between different features and target for better selection of parameters**"
   ]
  },
  {
   "cell_type": "code",
   "execution_count": 13,
   "metadata": {},
   "outputs": [
    {
     "data": {
      "text/plain": [
       "<seaborn.axisgrid.PairGrid at 0x1c19312940>"
      ]
     },
     "execution_count": 13,
     "metadata": {},
     "output_type": "execute_result"
    },
    {
     "data": {
      "image/png": "[encoded data removed]",
      "text/plain": [
       "<Figure size 2772x504 with 11 Axes>"
      ]
     },
     "metadata": {},
     "output_type": "display_data"
    }
   ],
   "source": [
    "features = ['fixed_acidity', 'volatile_acidity', 'citric_acid', 'residual_sugar',\n",
    "       'chlorides', 'free_sulfur_dioxide', 'total_sulfur_dioxide', 'density',\n",
    "       'pH', 'sulphates', 'alcohol']\n",
    "X = df_white[features]\n",
    "y = df_white['quality']\n",
    "#plotting features vs quality\n",
    "sns.pairplot(df_white,x_vars=features,y_vars='quality',kind='reg',height=7,aspect=0.5)"
   ]
  },
  {
   "cell_type": "markdown",
   "metadata": {},
   "source": [
    "**Preparing the data as per the requirement**<br>"
   ]
  },
  {
   "cell_type": "code",
   "execution_count": 14,
   "metadata": {},
   "outputs": [
    {
     "data": {
      "text/plain": [
       "array([6, 5, 7, 8, 4, 3, 9])"
      ]
     },
     "execution_count": 14,
     "metadata": {},
     "output_type": "execute_result"
    }
   ],
   "source": [
    "df_white['quality'].unique() #checking unique values"
   ]
  },
  {
   "cell_type": "code",
   "execution_count": 15,
   "metadata": {},
   "outputs": [
    {
     "data": {
      "text/plain": [
       "Counter({6: 2198, 5: 1457, 7: 880, 8: 175, 4: 163, 3: 20, 9: 5})"
      ]
     },
     "execution_count": 15,
     "metadata": {},
     "output_type": "execute_result"
    }
   ],
   "source": [
    "#count of each target variable\n",
    "from collections import Counter\n",
    "Counter(df_white['quality'])"
   ]
  },
  {
   "cell_type": "markdown",
   "metadata": {},
   "source": [
    "we will also convert the values of Alcohol into multiclass that is is the alcohol is less than equal to 10 we will convert it into 1 else less than equal to 12 to 2 and greater than 12 to 3 that is high alcohol content "
   ]
  },
  {
   "cell_type": "code",
   "execution_count": 16,
   "metadata": {},
   "outputs": [],
   "source": [
    "alcoholmc = []\n",
    "for i in df_white['alcohol']:\n",
    "    if i <= 10:\n",
    "        alcoholmc.append(1)\n",
    "    elif i >10 and i <= 12:\n",
    "        alcoholmc.append(2)\n",
    "    elif i > 12 and i <= 15:\n",
    "        alcoholmc.append(3)\n",
    "df_white['AlcoholMc'] = alcoholmc\n",
    "df_white['Reviews']=df_white['quality'].apply(lambda x: 0 if x <= 6 else 1)\n"
   ]
  },
  {
   "cell_type": "code",
   "execution_count": 17,
   "metadata": {
    "scrolled": true
   },
   "outputs": [
    {
     "name": "stdout",
     "output_type": "stream",
     "text": [
      "<class 'pandas.core.frame.DataFrame'>\n",
      "RangeIndex: 4898 entries, 0 to 4897\n",
      "Data columns (total 14 columns):\n",
      "fixed_acidity           4898 non-null float64\n",
      "volatile_acidity        4898 non-null float64\n",
      "citric_acid             4898 non-null float64\n",
      "residual_sugar          4898 non-null float64\n",
      "chlorides               4898 non-null float64\n",
      "free_sulfur_dioxide     4898 non-null float64\n",
      "total_sulfur_dioxide    4898 non-null float64\n",
      "density                 4898 non-null float64\n",
      "pH                      4898 non-null float64\n",
      "sulphates               4898 non-null float64\n",
      "alcohol                 4898 non-null float64\n",
      "quality                 4898 non-null int64\n",
      "AlcoholMc               4898 non-null int64\n",
      "Reviews                 4898 non-null int64\n",
      "dtypes: float64(11), int64(3)\n",
      "memory usage: 535.8 KB\n"
     ]
    }
   ],
   "source": [
    "df_white.info()"
   ]
  },
  {
   "cell_type": "markdown",
   "metadata": {},
   "source": [
    "****"
   ]
  },
  {
   "cell_type": "markdown",
   "metadata": {},
   "source": [
    "# <a id='3'>3. Linear model</a>"
   ]
  },
  {
   "cell_type": "markdown",
   "metadata": {},
   "source": [
    "Linear regression is a statistical model that examines the linear relationship between two (Simple Linear Regression) or more (Multiple Linear Regression) variables — a dependent variable and independent variable(s). Linear relationship basically means that when one (or more) independent variables increases (or decreases), the dependent variable increases (or decreases) too"
   ]
  },
  {
   "cell_type": "markdown",
   "metadata": {},
   "source": [
    "****"
   ]
  },
  {
   "cell_type": "markdown",
   "metadata": {},
   "source": [
    "**Model 1**"
   ]
  },
  {
   "cell_type": "markdown",
   "metadata": {},
   "source": [
    "The data is split into training data and testing data, which is fit into the model the model predicts certain output based on training data which is then tested against the target data."
   ]
  },
  {
   "cell_type": "markdown",
   "metadata": {},
   "source": [
    "We will be using mean squared error to check the accuracy of the predictions<br>\n",
    "<br>\n",
    "General steps to calculate the mean squared error from a set of X and Y values:<br>\n",
    "<br>\n",
    "Find the regression line.<br>\n",
    "Insert your X values into the linear regression equation to find the new Y values (Y’).<br>\n",
    "Subtract the new Y value from the original to get the error.<br>\n",
    "Square the errors.<br>\n",
    "Add up the errors.<br>\n",
    "Find the mean."
   ]
  },
  {
   "cell_type": "markdown",
   "metadata": {},
   "source": [
    "**In thi model I have considered all the factors to check the accuracy, this model has multi-colinear factors as well which we will remove in the further model but first we meed to chek if this model makes an impact**"
   ]
  },
  {
   "cell_type": "code",
   "execution_count": 18,
   "metadata": {},
   "outputs": [],
   "source": [
    "#splitting data for traning and testing\n",
    "features = ['fixed_acidity', 'volatile_acidity', 'citric_acid', 'residual_sugar',\n",
    "       'chlorides', 'free_sulfur_dioxide', 'total_sulfur_dioxide', 'density',\n",
    "       'pH', 'sulphates', 'AlcoholMc']\n",
    "\n",
    "y= df_white['quality']\n",
    "X=df_white[features]\n"
   ]
  },
  {
   "cell_type": "code",
   "execution_count": 19,
   "metadata": {},
   "outputs": [
    {
     "data": {
      "text/html": [
       "<table class=\"simpletable\">\n",
       "<caption>OLS Regression Results</caption>\n",
       "<tr>\n",
       "  <th>Dep. Variable:</th>         <td>quality</td>     <th>  R-squared:         </th> <td>   0.280</td> \n",
       "</tr>\n",
       "<tr>\n",
       "  <th>Model:</th>                   <td>OLS</td>       <th>  Adj. R-squared:    </th> <td>   0.278</td> \n",
       "</tr>\n",
       "<tr>\n",
       "  <th>Method:</th>             <td>Least Squares</td>  <th>  F-statistic:       </th> <td>   172.4</td> \n",
       "</tr>\n",
       "<tr>\n",
       "  <th>Date:</th>             <td>Thu, 18 Apr 2019</td> <th>  Prob (F-statistic):</th>  <td>  0.00</td>  \n",
       "</tr>\n",
       "<tr>\n",
       "  <th>Time:</th>                 <td>12:01:47</td>     <th>  Log-Likelihood:    </th> <td> -5551.3</td> \n",
       "</tr>\n",
       "<tr>\n",
       "  <th>No. Observations:</th>      <td>  4898</td>      <th>  AIC:               </th> <td>1.113e+04</td>\n",
       "</tr>\n",
       "<tr>\n",
       "  <th>Df Residuals:</th>          <td>  4886</td>      <th>  BIC:               </th> <td>1.120e+04</td>\n",
       "</tr>\n",
       "<tr>\n",
       "  <th>Df Model:</th>              <td>    11</td>      <th>                     </th>     <td> </td>    \n",
       "</tr>\n",
       "<tr>\n",
       "  <th>Covariance Type:</th>      <td>nonrobust</td>    <th>                     </th>     <td> </td>    \n",
       "</tr>\n",
       "</table>\n",
       "<table class=\"simpletable\">\n",
       "<tr>\n",
       "            <td></td>              <th>coef</th>     <th>std err</th>      <th>t</th>      <th>P>|t|</th>  <th>[0.025</th>    <th>0.975]</th>  \n",
       "</tr>\n",
       "<tr>\n",
       "  <th>const</th>                <td>  208.9111</td> <td>   13.770</td> <td>   15.171</td> <td> 0.000</td> <td>  181.916</td> <td>  235.907</td>\n",
       "</tr>\n",
       "<tr>\n",
       "  <th>fixed_acidity</th>        <td>    0.1080</td> <td>    0.019</td> <td>    5.798</td> <td> 0.000</td> <td>    0.072</td> <td>    0.145</td>\n",
       "</tr>\n",
       "<tr>\n",
       "  <th>volatile_acidity</th>     <td>   -1.7837</td> <td>    0.113</td> <td>  -15.820</td> <td> 0.000</td> <td>   -2.005</td> <td>   -1.563</td>\n",
       "</tr>\n",
       "<tr>\n",
       "  <th>citric_acid</th>          <td>    0.0376</td> <td>    0.096</td> <td>    0.393</td> <td> 0.695</td> <td>   -0.150</td> <td>    0.226</td>\n",
       "</tr>\n",
       "<tr>\n",
       "  <th>residual_sugar</th>       <td>    0.1013</td> <td>    0.006</td> <td>   16.593</td> <td> 0.000</td> <td>    0.089</td> <td>    0.113</td>\n",
       "</tr>\n",
       "<tr>\n",
       "  <th>chlorides</th>            <td>   -0.1889</td> <td>    0.548</td> <td>   -0.345</td> <td> 0.730</td> <td>   -1.262</td> <td>    0.885</td>\n",
       "</tr>\n",
       "<tr>\n",
       "  <th>free_sulfur_dioxide</th>  <td>    0.0034</td> <td>    0.001</td> <td>    4.064</td> <td> 0.000</td> <td>    0.002</td> <td>    0.005</td>\n",
       "</tr>\n",
       "<tr>\n",
       "  <th>total_sulfur_dioxide</th> <td>   -0.0002</td> <td>    0.000</td> <td>   -0.441</td> <td> 0.659</td> <td>   -0.001</td> <td>    0.001</td>\n",
       "</tr>\n",
       "<tr>\n",
       "  <th>density</th>              <td> -208.7820</td> <td>   14.106</td> <td>  -14.801</td> <td> 0.000</td> <td> -236.437</td> <td> -181.127</td>\n",
       "</tr>\n",
       "<tr>\n",
       "  <th>pH</th>                   <td>    0.8758</td> <td>    0.096</td> <td>    9.096</td> <td> 0.000</td> <td>    0.687</td> <td>    1.065</td>\n",
       "</tr>\n",
       "<tr>\n",
       "  <th>sulphates</th>            <td>    0.7245</td> <td>    0.099</td> <td>    7.348</td> <td> 0.000</td> <td>    0.531</td> <td>    0.918</td>\n",
       "</tr>\n",
       "<tr>\n",
       "  <th>AlcoholMc</th>            <td>    0.2098</td> <td>    0.030</td> <td>    6.965</td> <td> 0.000</td> <td>    0.151</td> <td>    0.269</td>\n",
       "</tr>\n",
       "</table>\n",
       "<table class=\"simpletable\">\n",
       "<tr>\n",
       "  <th>Omnibus:</th>       <td>131.649</td> <th>  Durbin-Watson:     </th> <td>   1.626</td>\n",
       "</tr>\n",
       "<tr>\n",
       "  <th>Prob(Omnibus):</th> <td> 0.000</td>  <th>  Jarque-Bera (JB):  </th> <td> 307.919</td>\n",
       "</tr>\n",
       "<tr>\n",
       "  <th>Skew:</th>          <td> 0.088</td>  <th>  Prob(JB):          </th> <td>1.37e-67</td>\n",
       "</tr>\n",
       "<tr>\n",
       "  <th>Kurtosis:</th>      <td> 4.216</td>  <th>  Cond. No.          </th> <td>2.74e+05</td>\n",
       "</tr>\n",
       "</table><br/><br/>Warnings:<br/>[1] Standard Errors assume that the covariance matrix of the errors is correctly specified.<br/>[2] The condition number is large, 2.74e+05. This might indicate that there are<br/>strong multicollinearity or other numerical problems."
      ],
      "text/plain": [
       "<class 'statsmodels.iolib.summary.Summary'>\n",
       "\"\"\"\n",
       "                            OLS Regression Results                            \n",
       "==============================================================================\n",
       "Dep. Variable:                quality   R-squared:                       0.280\n",
       "Model:                            OLS   Adj. R-squared:                  0.278\n",
       "Method:                 Least Squares   F-statistic:                     172.4\n",
       "Date:                Thu, 18 Apr 2019   Prob (F-statistic):               0.00\n",
       "Time:                        12:01:47   Log-Likelihood:                -5551.3\n",
       "No. Observations:                4898   AIC:                         1.113e+04\n",
       "Df Residuals:                    4886   BIC:                         1.120e+04\n",
       "Df Model:                          11                                         \n",
       "Covariance Type:            nonrobust                                         \n",
       "========================================================================================\n",
       "                           coef    std err          t      P>|t|      [0.025      0.975]\n",
       "----------------------------------------------------------------------------------------\n",
       "const                  208.9111     13.770     15.171      0.000     181.916     235.907\n",
       "fixed_acidity            0.1080      0.019      5.798      0.000       0.072       0.145\n",
       "volatile_acidity        -1.7837      0.113    -15.820      0.000      -2.005      -1.563\n",
       "citric_acid              0.0376      0.096      0.393      0.695      -0.150       0.226\n",
       "residual_sugar           0.1013      0.006     16.593      0.000       0.089       0.113\n",
       "chlorides               -0.1889      0.548     -0.345      0.730      -1.262       0.885\n",
       "free_sulfur_dioxide      0.0034      0.001      4.064      0.000       0.002       0.005\n",
       "total_sulfur_dioxide    -0.0002      0.000     -0.441      0.659      -0.001       0.001\n",
       "density               -208.7820     14.106    -14.801      0.000    -236.437    -181.127\n",
       "pH                       0.8758      0.096      9.096      0.000       0.687       1.065\n",
       "sulphates                0.7245      0.099      7.348      0.000       0.531       0.918\n",
       "AlcoholMc                0.2098      0.030      6.965      0.000       0.151       0.269\n",
       "==============================================================================\n",
       "Omnibus:                      131.649   Durbin-Watson:                   1.626\n",
       "Prob(Omnibus):                  0.000   Jarque-Bera (JB):              307.919\n",
       "Skew:                           0.088   Prob(JB):                     1.37e-67\n",
       "Kurtosis:                       4.216   Cond. No.                     2.74e+05\n",
       "==============================================================================\n",
       "\n",
       "Warnings:\n",
       "[1] Standard Errors assume that the covariance matrix of the errors is correctly specified.\n",
       "[2] The condition number is large, 2.74e+05. This might indicate that there are\n",
       "strong multicollinearity or other numerical problems.\n",
       "\"\"\""
      ]
     },
     "execution_count": 19,
     "metadata": {},
     "output_type": "execute_result"
    }
   ],
   "source": [
    "#training model\n",
    "X2 = sm.add_constant(X)\n",
    "y =y\n",
    "model = linear_model.LinearRegression()\n",
    "model = sm.OLS(y, X2)\n",
    "results = model.fit()\n",
    "results.summary()\n",
    "\n"
   ]
  },
  {
   "cell_type": "markdown",
   "metadata": {},
   "source": [
    "**You need some kind of assurance that your model has got most of the patterns from the data correct, and its not picking up too much on the noise, or in other words its low on bias and variance for this reason we need to validate the model<br><br>**\n",
    "\n",
    "**This process of deciding whether the numerical results quantifying hypothesized relationships between variables, are acceptable as descriptions of the data, is known as validation**"
   ]
  },
  {
   "cell_type": "code",
   "execution_count": 20,
   "metadata": {
    "scrolled": false
   },
   "outputs": [
    {
     "name": "stdout",
     "output_type": "stream",
     "text": [
      "R2 0.2450457675143662\n",
      "Mean RMSE 0.7627614059797655\n"
     ]
    }
   ],
   "source": [
    "lm = LinearRegression()\n",
    "r2= cross_val_score(lm, X, y, cv=5, scoring = make_scorer(r2_score))\n",
    "ms_errors= cross_val_score(lm, X, y, cv=5, scoring = make_scorer(mean_squared_error))\n",
    "rms_errors = np.sqrt(ms_errors)\n",
    "mean_rms_error = rms_errors.mean()\n",
    "print(\"R2\",r2.mean())\n",
    "print(\"Mean RMSE\",mean_rms_error)"
   ]
  },
  {
   "cell_type": "markdown",
   "metadata": {},
   "source": [
    "The model worked perfectly fine since the mean square error is so close to 0 we can say that this is a good model with all significant relations and assumptions are not violated.AIC and BIC is significantly less and adjusted R2 is 0.134 which is same as R2. Value of mean RMSE is close to 0 and R-squared is nearly linear, we can say that the cross-validation did well. let us check if we can improve it more."
   ]
  },
  {
   "cell_type": "markdown",
   "metadata": {},
   "source": [
    "****"
   ]
  },
  {
   "cell_type": "markdown",
   "metadata": {},
   "source": [
    "**Model 2**<br>\n",
    "From the above ols regression results we can make out that that the p values for few features are more tha 0.05 so dropping those features in the below model to get more accuracy and avoid multicolinearity"
   ]
  },
  {
   "cell_type": "code",
   "execution_count": 21,
   "metadata": {},
   "outputs": [],
   "source": [
    "#splitting data for traning and testing\n",
    "features = ['fixed_acidity', 'volatile_acidity', 'residual_sugar',\n",
    "        'free_sulfur_dioxide', 'density',\n",
    "       'pH', 'sulphates', 'AlcoholMc']\n",
    "\n",
    "y= df_white['quality']\n",
    "X=df_white[features]"
   ]
  },
  {
   "cell_type": "code",
   "execution_count": 22,
   "metadata": {},
   "outputs": [
    {
     "data": {
      "text/html": [
       "<table class=\"simpletable\">\n",
       "<caption>OLS Regression Results</caption>\n",
       "<tr>\n",
       "  <th>Dep. Variable:</th>         <td>quality</td>     <th>  R-squared:         </th> <td>   0.280</td> \n",
       "</tr>\n",
       "<tr>\n",
       "  <th>Model:</th>                   <td>OLS</td>       <th>  Adj. R-squared:    </th> <td>   0.278</td> \n",
       "</tr>\n",
       "<tr>\n",
       "  <th>Method:</th>             <td>Least Squares</td>  <th>  F-statistic:       </th> <td>   237.2</td> \n",
       "</tr>\n",
       "<tr>\n",
       "  <th>Date:</th>             <td>Thu, 18 Apr 2019</td> <th>  Prob (F-statistic):</th>  <td>  0.00</td>  \n",
       "</tr>\n",
       "<tr>\n",
       "  <th>Time:</th>                 <td>12:01:47</td>     <th>  Log-Likelihood:    </th> <td> -5551.5</td> \n",
       "</tr>\n",
       "<tr>\n",
       "  <th>No. Observations:</th>      <td>  4898</td>      <th>  AIC:               </th> <td>1.112e+04</td>\n",
       "</tr>\n",
       "<tr>\n",
       "  <th>Df Residuals:</th>          <td>  4889</td>      <th>  BIC:               </th> <td>1.118e+04</td>\n",
       "</tr>\n",
       "<tr>\n",
       "  <th>Df Model:</th>              <td>     8</td>      <th>                     </th>     <td> </td>    \n",
       "</tr>\n",
       "<tr>\n",
       "  <th>Covariance Type:</th>      <td>nonrobust</td>    <th>                     </th>     <td> </td>    \n",
       "</tr>\n",
       "</table>\n",
       "<table class=\"simpletable\">\n",
       "<tr>\n",
       "           <td></td>              <th>coef</th>     <th>std err</th>      <th>t</th>      <th>P>|t|</th>  <th>[0.025</th>    <th>0.975]</th>  \n",
       "</tr>\n",
       "<tr>\n",
       "  <th>const</th>               <td>  210.9013</td> <td>   13.071</td> <td>   16.136</td> <td> 0.000</td> <td>  185.277</td> <td>  236.525</td>\n",
       "</tr>\n",
       "<tr>\n",
       "  <th>fixed_acidity</th>       <td>    0.1103</td> <td>    0.018</td> <td>    6.092</td> <td> 0.000</td> <td>    0.075</td> <td>    0.146</td>\n",
       "</tr>\n",
       "<tr>\n",
       "  <th>volatile_acidity</th>    <td>   -1.8037</td> <td>    0.108</td> <td>  -16.643</td> <td> 0.000</td> <td>   -2.016</td> <td>   -1.591</td>\n",
       "</tr>\n",
       "<tr>\n",
       "  <th>residual_sugar</th>      <td>    0.1021</td> <td>    0.006</td> <td>   17.380</td> <td> 0.000</td> <td>    0.091</td> <td>    0.114</td>\n",
       "</tr>\n",
       "<tr>\n",
       "  <th>free_sulfur_dioxide</th> <td>    0.0032</td> <td>    0.001</td> <td>    4.749</td> <td> 0.000</td> <td>    0.002</td> <td>    0.005</td>\n",
       "</tr>\n",
       "<tr>\n",
       "  <th>density</th>             <td> -210.8214</td> <td>   13.382</td> <td>  -15.754</td> <td> 0.000</td> <td> -237.057</td> <td> -184.586</td>\n",
       "</tr>\n",
       "<tr>\n",
       "  <th>pH</th>                  <td>    0.8787</td> <td>    0.094</td> <td>    9.308</td> <td> 0.000</td> <td>    0.694</td> <td>    1.064</td>\n",
       "</tr>\n",
       "<tr>\n",
       "  <th>sulphates</th>           <td>    0.7239</td> <td>    0.098</td> <td>    7.384</td> <td> 0.000</td> <td>    0.532</td> <td>    0.916</td>\n",
       "</tr>\n",
       "<tr>\n",
       "  <th>AlcoholMc</th>           <td>    0.2109</td> <td>    0.030</td> <td>    7.028</td> <td> 0.000</td> <td>    0.152</td> <td>    0.270</td>\n",
       "</tr>\n",
       "</table>\n",
       "<table class=\"simpletable\">\n",
       "<tr>\n",
       "  <th>Omnibus:</th>       <td>132.681</td> <th>  Durbin-Watson:     </th> <td>   1.627</td>\n",
       "</tr>\n",
       "<tr>\n",
       "  <th>Prob(Omnibus):</th> <td> 0.000</td>  <th>  Jarque-Bera (JB):  </th> <td> 311.240</td>\n",
       "</tr>\n",
       "<tr>\n",
       "  <th>Skew:</th>          <td> 0.089</td>  <th>  Prob(JB):          </th> <td>2.60e-68</td>\n",
       "</tr>\n",
       "<tr>\n",
       "  <th>Kurtosis:</th>      <td> 4.222</td>  <th>  Cond. No.          </th> <td>7.02e+04</td>\n",
       "</tr>\n",
       "</table><br/><br/>Warnings:<br/>[1] Standard Errors assume that the covariance matrix of the errors is correctly specified.<br/>[2] The condition number is large, 7.02e+04. This might indicate that there are<br/>strong multicollinearity or other numerical problems."
      ],
      "text/plain": [
       "<class 'statsmodels.iolib.summary.Summary'>\n",
       "\"\"\"\n",
       "                            OLS Regression Results                            \n",
       "==============================================================================\n",
       "Dep. Variable:                quality   R-squared:                       0.280\n",
       "Model:                            OLS   Adj. R-squared:                  0.278\n",
       "Method:                 Least Squares   F-statistic:                     237.2\n",
       "Date:                Thu, 18 Apr 2019   Prob (F-statistic):               0.00\n",
       "Time:                        12:01:47   Log-Likelihood:                -5551.5\n",
       "No. Observations:                4898   AIC:                         1.112e+04\n",
       "Df Residuals:                    4889   BIC:                         1.118e+04\n",
       "Df Model:                           8                                         \n",
       "Covariance Type:            nonrobust                                         \n",
       "=======================================================================================\n",
       "                          coef    std err          t      P>|t|      [0.025      0.975]\n",
       "---------------------------------------------------------------------------------------\n",
       "const                 210.9013     13.071     16.136      0.000     185.277     236.525\n",
       "fixed_acidity           0.1103      0.018      6.092      0.000       0.075       0.146\n",
       "volatile_acidity       -1.8037      0.108    -16.643      0.000      -2.016      -1.591\n",
       "residual_sugar          0.1021      0.006     17.380      0.000       0.091       0.114\n",
       "free_sulfur_dioxide     0.0032      0.001      4.749      0.000       0.002       0.005\n",
       "density              -210.8214     13.382    -15.754      0.000    -237.057    -184.586\n",
       "pH                      0.8787      0.094      9.308      0.000       0.694       1.064\n",
       "sulphates               0.7239      0.098      7.384      0.000       0.532       0.916\n",
       "AlcoholMc               0.2109      0.030      7.028      0.000       0.152       0.270\n",
       "==============================================================================\n",
       "Omnibus:                      132.681   Durbin-Watson:                   1.627\n",
       "Prob(Omnibus):                  0.000   Jarque-Bera (JB):              311.240\n",
       "Skew:                           0.089   Prob(JB):                     2.60e-68\n",
       "Kurtosis:                       4.222   Cond. No.                     7.02e+04\n",
       "==============================================================================\n",
       "\n",
       "Warnings:\n",
       "[1] Standard Errors assume that the covariance matrix of the errors is correctly specified.\n",
       "[2] The condition number is large, 7.02e+04. This might indicate that there are\n",
       "strong multicollinearity or other numerical problems.\n",
       "\"\"\""
      ]
     },
     "execution_count": 22,
     "metadata": {},
     "output_type": "execute_result"
    }
   ],
   "source": [
    "#training model\n",
    "X2 = sm.add_constant(X)\n",
    "y =y\n",
    "model = linear_model.LinearRegression()\n",
    "model = sm.OLS(y, X2)\n",
    "results = model.fit()\n",
    "results.summary()\n",
    "\n"
   ]
  },
  {
   "cell_type": "code",
   "execution_count": 23,
   "metadata": {},
   "outputs": [
    {
     "name": "stdout",
     "output_type": "stream",
     "text": [
      "R2 0.24628043051733767\n",
      "Mean RMSE 0.7621067920680988\n"
     ]
    }
   ],
   "source": [
    "lm = LinearRegression()\n",
    "r2= cross_val_score(lm, X, y, cv=5, scoring = make_scorer(r2_score))\n",
    "ms_errors= cross_val_score(lm, X, y, cv=5, scoring = make_scorer(mean_squared_error))\n",
    "rms_errors = np.sqrt(ms_errors)\n",
    "mean_rms_error = rms_errors.mean()\n",
    "print(\"R2\",r2.mean())\n",
    "print(\"Mean RMSE\",mean_rms_error)"
   ]
  },
  {
   "cell_type": "markdown",
   "metadata": {},
   "source": [
    "The model worked perfectly fine since the mean square error is so close to 0 we can say that this is a good model with all significant relations and assumptions are not violated.AIC and BIC is significantly less and adjusted R2 is 0.132 which is same as R2. Value of mean RMSE is close to 0 and R-squared is nearly linear, we can say that the cross-validation did well. let us check if we can improve it more by dropping certain factors with low correlation."
   ]
  },
  {
   "cell_type": "markdown",
   "metadata": {},
   "source": [
    "****"
   ]
  },
  {
   "cell_type": "markdown",
   "metadata": {},
   "source": [
    "**Model 3**<br>\n",
    "In this model I am going to use the random features based on correlation as training data and Reviews as target data"
   ]
  },
  {
   "cell_type": "code",
   "execution_count": 24,
   "metadata": {},
   "outputs": [],
   "source": [
    "#splitting data for traning and testing\n",
    "features = ['fixed_acidity', 'residual_sugar','sulphates',\n",
    "       'chlorides', 'AlcoholMc']\n",
    "\n",
    "y = df_white['quality']\n",
    "X = df_white[features]\n"
   ]
  },
  {
   "cell_type": "code",
   "execution_count": 25,
   "metadata": {},
   "outputs": [
    {
     "data": {
      "text/html": [
       "<table class=\"simpletable\">\n",
       "<caption>OLS Regression Results</caption>\n",
       "<tr>\n",
       "  <th>Dep. Variable:</th>         <td>quality</td>     <th>  R-squared:         </th> <td>   0.193</td> \n",
       "</tr>\n",
       "<tr>\n",
       "  <th>Model:</th>                   <td>OLS</td>       <th>  Adj. R-squared:    </th> <td>   0.193</td> \n",
       "</tr>\n",
       "<tr>\n",
       "  <th>Method:</th>             <td>Least Squares</td>  <th>  F-statistic:       </th> <td>   234.6</td> \n",
       "</tr>\n",
       "<tr>\n",
       "  <th>Date:</th>             <td>Thu, 18 Apr 2019</td> <th>  Prob (F-statistic):</th> <td>3.78e-225</td>\n",
       "</tr>\n",
       "<tr>\n",
       "  <th>Time:</th>                 <td>12:01:47</td>     <th>  Log-Likelihood:    </th> <td> -5828.3</td> \n",
       "</tr>\n",
       "<tr>\n",
       "  <th>No. Observations:</th>      <td>  4898</td>      <th>  AIC:               </th> <td>1.167e+04</td>\n",
       "</tr>\n",
       "<tr>\n",
       "  <th>Df Residuals:</th>          <td>  4892</td>      <th>  BIC:               </th> <td>1.171e+04</td>\n",
       "</tr>\n",
       "<tr>\n",
       "  <th>Df Model:</th>              <td>     5</td>      <th>                     </th>     <td> </td>    \n",
       "</tr>\n",
       "<tr>\n",
       "  <th>Covariance Type:</th>      <td>nonrobust</td>    <th>                     </th>     <td> </td>    \n",
       "</tr>\n",
       "</table>\n",
       "<table class=\"simpletable\">\n",
       "<tr>\n",
       "         <td></td>           <th>coef</th>     <th>std err</th>      <th>t</th>      <th>P>|t|</th>  <th>[0.025</th>    <th>0.975]</th>  \n",
       "</tr>\n",
       "<tr>\n",
       "  <th>const</th>          <td>    5.2810</td> <td>    0.122</td> <td>   43.351</td> <td> 0.000</td> <td>    5.042</td> <td>    5.520</td>\n",
       "</tr>\n",
       "<tr>\n",
       "  <th>fixed_acidity</th>  <td>   -0.0768</td> <td>    0.014</td> <td>   -5.654</td> <td> 0.000</td> <td>   -0.103</td> <td>   -0.050</td>\n",
       "</tr>\n",
       "<tr>\n",
       "  <th>residual_sugar</th> <td>    0.0154</td> <td>    0.002</td> <td>    6.247</td> <td> 0.000</td> <td>    0.011</td> <td>    0.020</td>\n",
       "</tr>\n",
       "<tr>\n",
       "  <th>sulphates</th>      <td>    0.5035</td> <td>    0.100</td> <td>    5.047</td> <td> 0.000</td> <td>    0.308</td> <td>    0.699</td>\n",
       "</tr>\n",
       "<tr>\n",
       "  <th>chlorides</th>      <td>   -2.9396</td> <td>    0.555</td> <td>   -5.293</td> <td> 0.000</td> <td>   -4.028</td> <td>   -1.851</td>\n",
       "</tr>\n",
       "<tr>\n",
       "  <th>AlcoholMc</th>      <td>    0.5308</td> <td>    0.019</td> <td>   28.049</td> <td> 0.000</td> <td>    0.494</td> <td>    0.568</td>\n",
       "</tr>\n",
       "</table>\n",
       "<table class=\"simpletable\">\n",
       "<tr>\n",
       "  <th>Omnibus:</th>       <td>71.437</td> <th>  Durbin-Watson:     </th> <td>   1.651</td>\n",
       "</tr>\n",
       "<tr>\n",
       "  <th>Prob(Omnibus):</th> <td> 0.000</td> <th>  Jarque-Bera (JB):  </th> <td> 132.719</td>\n",
       "</tr>\n",
       "<tr>\n",
       "  <th>Skew:</th>          <td> 0.035</td> <th>  Prob(JB):          </th> <td>1.52e-29</td>\n",
       "</tr>\n",
       "<tr>\n",
       "  <th>Kurtosis:</th>      <td> 3.803</td> <th>  Cond. No.          </th> <td>    503.</td>\n",
       "</tr>\n",
       "</table><br/><br/>Warnings:<br/>[1] Standard Errors assume that the covariance matrix of the errors is correctly specified."
      ],
      "text/plain": [
       "<class 'statsmodels.iolib.summary.Summary'>\n",
       "\"\"\"\n",
       "                            OLS Regression Results                            \n",
       "==============================================================================\n",
       "Dep. Variable:                quality   R-squared:                       0.193\n",
       "Model:                            OLS   Adj. R-squared:                  0.193\n",
       "Method:                 Least Squares   F-statistic:                     234.6\n",
       "Date:                Thu, 18 Apr 2019   Prob (F-statistic):          3.78e-225\n",
       "Time:                        12:01:47   Log-Likelihood:                -5828.3\n",
       "No. Observations:                4898   AIC:                         1.167e+04\n",
       "Df Residuals:                    4892   BIC:                         1.171e+04\n",
       "Df Model:                           5                                         \n",
       "Covariance Type:            nonrobust                                         \n",
       "==================================================================================\n",
       "                     coef    std err          t      P>|t|      [0.025      0.975]\n",
       "----------------------------------------------------------------------------------\n",
       "const              5.2810      0.122     43.351      0.000       5.042       5.520\n",
       "fixed_acidity     -0.0768      0.014     -5.654      0.000      -0.103      -0.050\n",
       "residual_sugar     0.0154      0.002      6.247      0.000       0.011       0.020\n",
       "sulphates          0.5035      0.100      5.047      0.000       0.308       0.699\n",
       "chlorides         -2.9396      0.555     -5.293      0.000      -4.028      -1.851\n",
       "AlcoholMc          0.5308      0.019     28.049      0.000       0.494       0.568\n",
       "==============================================================================\n",
       "Omnibus:                       71.437   Durbin-Watson:                   1.651\n",
       "Prob(Omnibus):                  0.000   Jarque-Bera (JB):              132.719\n",
       "Skew:                           0.035   Prob(JB):                     1.52e-29\n",
       "Kurtosis:                       3.803   Cond. No.                         503.\n",
       "==============================================================================\n",
       "\n",
       "Warnings:\n",
       "[1] Standard Errors assume that the covariance matrix of the errors is correctly specified.\n",
       "\"\"\""
      ]
     },
     "execution_count": 25,
     "metadata": {},
     "output_type": "execute_result"
    }
   ],
   "source": [
    "#training model\n",
    "X2 = sm.add_constant(X)\n",
    "y =y\n",
    "model = linear_model.LinearRegression()\n",
    "model = sm.OLS(y, X2)\n",
    "results = model.fit()\n",
    "results.summary()\n",
    "\n"
   ]
  },
  {
   "cell_type": "code",
   "execution_count": 26,
   "metadata": {},
   "outputs": [
    {
     "name": "stdout",
     "output_type": "stream",
     "text": [
      "R2 0.164934147650343\n",
      "Mean RMSE 0.8020687654691357\n"
     ]
    }
   ],
   "source": [
    "lm = LinearRegression()\n",
    "r2= cross_val_score(lm, X, y, cv=5, scoring = make_scorer(r2_score))\n",
    "ms_errors= cross_val_score(lm, X, y, cv=5, scoring = make_scorer(mean_squared_error))\n",
    "rms_errors = np.sqrt(ms_errors)\n",
    "mean_rms_error = rms_errors.mean()\n",
    "print(\"R2\",r2.mean())\n",
    "print(\"Mean RMSE\",mean_rms_error)"
   ]
  },
  {
   "cell_type": "markdown",
   "metadata": {},
   "source": [
    "From the above built 3 models we can conclude that the relationship is significant since we got a R square value close enough to 0, result from all models which means the data is accurate and the model built works great. No assumptions are violated since there is hardly a few percent diffirence of the accuracy among the models hence the assumptions are perfectly fine. In the last model we didnot get warning for multi-colinearity hence it was removed as well<br><br>\n",
    "\n",
    "The model worked perfectly fine since the mean square error is so close to 0 we can say that this is a good model with all significant relations and assumptions are not violated.AIC and BIC is significantly less and adjusted R2 is 0.132 which is same as R2. Value of mean RMSE is close to 0 and R-squared is nearly linear, so far this model worked the best.\n",
    "\n",
    "****"
   ]
  },
  {
   "cell_type": "markdown",
   "metadata": {},
   "source": [
    "# <a id='4'>4. Logistic model</a>"
   ]
  },
  {
   "cell_type": "markdown",
   "metadata": {},
   "source": [
    "**Model 1**<br>"
   ]
  },
  {
   "cell_type": "markdown",
   "metadata": {},
   "source": [
    "**We shall create a new column called Review. This column will contain the values of 0 and 1 for target variable** \n",
    "\n",
    "0 - Bad<br>\n",
    "1 - Good<br>\n",
    "This will be split in the following way.<br> \n",
    "Less than 6 --> Bad<br>\n",
    "Greater than 6 --> Good<br>"
   ]
  },
  {
   "cell_type": "code",
   "execution_count": 27,
   "metadata": {},
   "outputs": [],
   "source": [
    "df_white['Reviews']=df_white['quality'].apply(lambda x: 0 if x <= 6 else 1)"
   ]
  },
  {
   "cell_type": "code",
   "execution_count": 28,
   "metadata": {},
   "outputs": [],
   "source": [
    "features = ['fixed_acidity', 'volatile_acidity', 'citric_acid', 'residual_sugar',\n",
    "       'chlorides', 'free_sulfur_dioxide', 'total_sulfur_dioxide', 'density',\n",
    "       'pH', 'sulphates', 'alcohol']\n",
    "\n",
    "logistic_y_model1 = df_white['Reviews']\n",
    "logistic_X_model1 = df_white[features]"
   ]
  },
  {
   "cell_type": "code",
   "execution_count": 29,
   "metadata": {},
   "outputs": [],
   "source": [
    "#dividing data to have a training and a testing set\n",
    "X_train, X_test, y_train, y_test = train_test_split(logistic_X_model1, logistic_y_model1, test_size= 0.4, random_state=0)\n"
   ]
  },
  {
   "cell_type": "code",
   "execution_count": 30,
   "metadata": {},
   "outputs": [
    {
     "name": "stdout",
     "output_type": "stream",
     "text": [
      "KfoldCrossVal mean score using Logistic regression is 0.7964392137222988\n"
     ]
    }
   ],
   "source": [
    "from sklearn.linear_model import LogisticRegression\n",
    "model = LogisticRegression()\n",
    "from sklearn.model_selection import KFold\n",
    "\n",
    "# Logistic regression cross validation\n",
    "Kfold = KFold(n_splits=5, shuffle=False)\n",
    "print(\"KfoldCrossVal mean score using Logistic regression is %s\" %cross_val_score(model,logistic_X_model1, logistic_y_model1 ,cv=10).mean())\n",
    "\n",
    "lr = model.fit(X_train,y_train)\n"
   ]
  },
  {
   "cell_type": "code",
   "execution_count": 31,
   "metadata": {},
   "outputs": [
    {
     "data": {
      "text/plain": [
       "array([[0.91307494, 0.08692506],\n",
       "       [0.91921529, 0.08078471],\n",
       "       [0.80509562, 0.19490438],\n",
       "       ...,\n",
       "       [0.96226348, 0.03773652],\n",
       "       [0.8128537 , 0.1871463 ],\n",
       "       [0.89334142, 0.10665858]])"
      ]
     },
     "execution_count": 31,
     "metadata": {},
     "output_type": "execute_result"
    }
   ],
   "source": [
    "model.predict_proba(X_test)"
   ]
  },
  {
   "cell_type": "code",
   "execution_count": 32,
   "metadata": {},
   "outputs": [
    {
     "name": "stdout",
     "output_type": "stream",
     "text": [
      "[[1473   57]\n",
      " [ 343   87]]\n"
     ]
    }
   ],
   "source": [
    "from sklearn.metrics import confusion_matrix\n",
    "prediction = model.predict(X_test)\n",
    "confusion_matrix = confusion_matrix(y_test, prediction)\n",
    "print(confusion_matrix)"
   ]
  },
  {
   "cell_type": "code",
   "execution_count": 33,
   "metadata": {},
   "outputs": [
    {
     "data": {
      "text/plain": [
       "array([0, 0, 0, ..., 0, 0, 0])"
      ]
     },
     "execution_count": 33,
     "metadata": {},
     "output_type": "execute_result"
    }
   ],
   "source": [
    "lr.predict(X_test)"
   ]
  },
  {
   "cell_type": "code",
   "execution_count": 34,
   "metadata": {},
   "outputs": [
    {
     "data": {
      "text/plain": [
       "array([[-0.1719466 , -3.08856964, -0.56176795,  0.02900354, -1.10024856,\n",
       "         0.01407933, -0.0038175 , -3.55841528, -0.40108474,  0.86485389,\n",
       "         0.80814002]])"
      ]
     },
     "execution_count": 34,
     "metadata": {},
     "output_type": "execute_result"
    }
   ],
   "source": [
    "model.coef_"
   ]
  },
  {
   "cell_type": "code",
   "execution_count": 35,
   "metadata": {},
   "outputs": [
    {
     "data": {
      "text/plain": [
       "array([-2.35177159, -2.43173271, -1.41845198, ..., -3.23866003,\n",
       "       -1.46866046, -2.1253359 ])"
      ]
     },
     "execution_count": 35,
     "metadata": {},
     "output_type": "execute_result"
    }
   ],
   "source": [
    "lr.decision_function(X_test) # Predict confidence scores for samples."
   ]
  },
  {
   "cell_type": "code",
   "execution_count": 36,
   "metadata": {},
   "outputs": [
    {
     "name": "stdout",
     "output_type": "stream",
     "text": [
      "Accuracy score using Logistic regression is 0.7959183673469388\n"
     ]
    }
   ],
   "source": [
    "from sklearn import metrics\n",
    "y_pred = lr.predict(X_test)\n",
    "print(\"Accuracy score using Logistic regression is %s\" %metrics.accuracy_score(y_test, y_pred))"
   ]
  },
  {
   "cell_type": "markdown",
   "metadata": {},
   "source": [
    "##### We have an accuracy of 80% approximately which is average , let us check if we can improve it more by reducing training attributes or selecting more accurate attributes"
   ]
  },
  {
   "cell_type": "markdown",
   "metadata": {},
   "source": [
    "****"
   ]
  },
  {
   "cell_type": "markdown",
   "metadata": {},
   "source": [
    "**Model 2**<br>"
   ]
  },
  {
   "cell_type": "code",
   "execution_count": 37,
   "metadata": {},
   "outputs": [],
   "source": [
    "#splitting data for traning and testing\n",
    "features = ['fixed_acidity', 'volatile_acidity', 'residual_sugar',\n",
    "       'chlorides', 'pH', 'free_sulfur_dioxide', 'sulphates', 'AlcoholMc']\n",
    "\n",
    "logistic_y_model1 = df_white['Reviews']\n",
    "logistic_X_model1 = df_white[features]"
   ]
  },
  {
   "cell_type": "code",
   "execution_count": 38,
   "metadata": {},
   "outputs": [],
   "source": [
    "#dividing data to have a training and a testing set\n",
    "X_train, X_test, y_train, y_test = train_test_split(logistic_X_model1, logistic_y_model1, test_size= 0.4, random_state=0)\n"
   ]
  },
  {
   "cell_type": "code",
   "execution_count": 39,
   "metadata": {},
   "outputs": [
    {
     "name": "stdout",
     "output_type": "stream",
     "text": [
      "KfoldCrossVal mean score using Logistic regression is 0.7911268311005384\n"
     ]
    }
   ],
   "source": [
    "from sklearn.linear_model import LogisticRegression\n",
    "model = LogisticRegression()\n",
    "from sklearn.model_selection import KFold\n",
    "\n",
    "# Logistic regression cross validation\n",
    "Kfold = KFold(n_splits=5, shuffle=False)\n",
    "print(\"KfoldCrossVal mean score using Logistic regression is %s\" %cross_val_score(model,logistic_X_model1, logistic_y_model1 ,cv=10).mean())\n",
    "\n",
    "lr = model.fit(X_train,y_train)"
   ]
  },
  {
   "cell_type": "code",
   "execution_count": 40,
   "metadata": {},
   "outputs": [
    {
     "data": {
      "text/plain": [
       "array([[0.85277195, 0.14722805],\n",
       "       [0.94342645, 0.05657355],\n",
       "       [0.7489172 , 0.2510828 ],\n",
       "       ...,\n",
       "       [0.95668711, 0.04331289],\n",
       "       [0.88853988, 0.11146012],\n",
       "       [0.89209708, 0.10790292]])"
      ]
     },
     "execution_count": 40,
     "metadata": {},
     "output_type": "execute_result"
    }
   ],
   "source": [
    "model.predict_proba(X_test)"
   ]
  },
  {
   "cell_type": "code",
   "execution_count": 41,
   "metadata": {},
   "outputs": [
    {
     "name": "stdout",
     "output_type": "stream",
     "text": [
      "[[1446   84]\n",
      " [ 333   97]]\n"
     ]
    }
   ],
   "source": [
    "from sklearn.metrics import confusion_matrix\n",
    "prediction = model.predict(X_test)\n",
    "confusion_matrix = confusion_matrix(y_test, prediction)\n",
    "print(confusion_matrix)"
   ]
  },
  {
   "cell_type": "code",
   "execution_count": 42,
   "metadata": {},
   "outputs": [
    {
     "data": {
      "text/plain": [
       "array([0, 0, 0, ..., 0, 0, 0])"
      ]
     },
     "execution_count": 42,
     "metadata": {},
     "output_type": "execute_result"
    }
   ],
   "source": [
    "lr.predict(X_test)"
   ]
  },
  {
   "cell_type": "code",
   "execution_count": 43,
   "metadata": {},
   "outputs": [
    {
     "data": {
      "text/plain": [
       "array([[-0.17827194, -2.81199797,  0.00998105, -1.349967  , -0.15164584,\n",
       "         0.00975727,  0.78390652,  1.41648877]])"
      ]
     },
     "execution_count": 43,
     "metadata": {},
     "output_type": "execute_result"
    }
   ],
   "source": [
    "model.coef_"
   ]
  },
  {
   "cell_type": "code",
   "execution_count": 44,
   "metadata": {},
   "outputs": [
    {
     "data": {
      "text/plain": [
       "array([-1.75650943, -2.81397692, -1.09284564, ..., -3.0950262 ,\n",
       "       -2.07591264, -2.11234299])"
      ]
     },
     "execution_count": 44,
     "metadata": {},
     "output_type": "execute_result"
    }
   ],
   "source": [
    "lr.decision_function(X_test) # Predict confidence scores for samples."
   ]
  },
  {
   "cell_type": "code",
   "execution_count": 45,
   "metadata": {},
   "outputs": [
    {
     "name": "stdout",
     "output_type": "stream",
     "text": [
      "Accuracy score using Logistic regression is 0.7872448979591836\n"
     ]
    }
   ],
   "source": [
    "from sklearn import metrics\n",
    "y_pred = lr.predict(X_test)\n",
    "print(\"Accuracy score using Logistic regression is %s\" %metrics.accuracy_score(y_test, y_pred))"
   ]
  },
  {
   "cell_type": "markdown",
   "metadata": {},
   "source": [
    "There was a minor decrease in the accuacy so the prediction of the factors might not be perfectly right lets move ahead and make another model"
   ]
  },
  {
   "cell_type": "markdown",
   "metadata": {},
   "source": [
    "****"
   ]
  },
  {
   "cell_type": "markdown",
   "metadata": {},
   "source": [
    "**Model 3**<br>\n",
    "In this model I am going to use the random features based on correlation as training data and Reviews as target data"
   ]
  },
  {
   "cell_type": "code",
   "execution_count": 46,
   "metadata": {},
   "outputs": [],
   "source": [
    "features = ['fixed_acidity', 'residual_sugar', 'free_sulfur_dioxide','sulphates',\n",
    "       'chlorides', 'pH', 'AlcoholMc']\n",
    "\n",
    "logistic_y_model1 = df_white['Reviews']\n",
    "logistic_X_model1 = df_white[features]"
   ]
  },
  {
   "cell_type": "code",
   "execution_count": 47,
   "metadata": {},
   "outputs": [],
   "source": [
    "#dividing data to have a training and a testing set\n",
    "X_train, X_test, y_train, y_test = train_test_split(logistic_X_model1, logistic_y_model1, test_size= 0.4, random_state=0)\n"
   ]
  },
  {
   "cell_type": "code",
   "execution_count": 48,
   "metadata": {},
   "outputs": [
    {
     "name": "stdout",
     "output_type": "stream",
     "text": [
      "KfoldCrossVal mean score using Logistic regression is 0.7956120362255332\n"
     ]
    }
   ],
   "source": [
    "from sklearn.linear_model import LogisticRegression\n",
    "model = LogisticRegression()\n",
    "from sklearn.model_selection import KFold\n",
    "\n",
    "# Logistic regression cross validation\n",
    "Kfold = KFold(n_splits=5, shuffle=False)\n",
    "print(\"KfoldCrossVal mean score using Logistic regression is %s\" %cross_val_score(model,logistic_X_model1, logistic_y_model1 ,cv=10).mean())\n",
    "\n",
    "lr = model.fit(X_train,y_train)"
   ]
  },
  {
   "cell_type": "code",
   "execution_count": 49,
   "metadata": {},
   "outputs": [
    {
     "data": {
      "text/plain": [
       "array([[0.83704362, 0.16295638],\n",
       "       [0.93445431, 0.06554569],\n",
       "       [0.8063466 , 0.1936534 ],\n",
       "       ...,\n",
       "       [0.93830512, 0.06169488],\n",
       "       [0.88827756, 0.11172244],\n",
       "       [0.87539554, 0.12460446]])"
      ]
     },
     "execution_count": 49,
     "metadata": {},
     "output_type": "execute_result"
    }
   ],
   "source": [
    "model.predict_proba(X_test)"
   ]
  },
  {
   "cell_type": "code",
   "execution_count": 50,
   "metadata": {},
   "outputs": [
    {
     "name": "stdout",
     "output_type": "stream",
     "text": [
      "[[1426  104]\n",
      " [ 308  122]]\n"
     ]
    }
   ],
   "source": [
    "from sklearn.metrics import confusion_matrix\n",
    "prediction = model.predict(X_test)\n",
    "confusion_matrix = confusion_matrix(y_test, prediction)\n",
    "print(confusion_matrix)"
   ]
  },
  {
   "cell_type": "code",
   "execution_count": 51,
   "metadata": {},
   "outputs": [
    {
     "data": {
      "text/plain": [
       "array([0, 0, 0, ..., 0, 0, 0])"
      ]
     },
     "execution_count": 51,
     "metadata": {},
     "output_type": "execute_result"
    }
   ],
   "source": [
    "lr.predict(X_test)"
   ]
  },
  {
   "cell_type": "code",
   "execution_count": 52,
   "metadata": {},
   "outputs": [
    {
     "data": {
      "text/plain": [
       "array([[-0.18126192, -0.00149049,  0.01198983,  0.78544617, -1.44492372,\n",
       "        -0.22399737,  1.33465784]])"
      ]
     },
     "execution_count": 52,
     "metadata": {},
     "output_type": "execute_result"
    }
   ],
   "source": [
    "model.coef_"
   ]
  },
  {
   "cell_type": "code",
   "execution_count": 53,
   "metadata": {},
   "outputs": [
    {
     "data": {
      "text/plain": [
       "array([-1.63639366, -2.65721528, -1.42644373, ..., -2.72187416,\n",
       "       -2.07326668, -1.94953147])"
      ]
     },
     "execution_count": 53,
     "metadata": {},
     "output_type": "execute_result"
    }
   ],
   "source": [
    "lr.decision_function(X_test) # Predict confidence scores for samples."
   ]
  },
  {
   "cell_type": "code",
   "execution_count": 54,
   "metadata": {},
   "outputs": [
    {
     "name": "stdout",
     "output_type": "stream",
     "text": [
      "Accuracy score using Logistic regression is 0.789795918367347\n"
     ]
    }
   ],
   "source": [
    "from sklearn import metrics\n",
    "y_pred = lr.predict(X_test)\n",
    "print(\"Accuracy score using Logistic regression is %s\" %metrics.accuracy_score(y_test, y_pred))"
   ]
  },
  {
   "cell_type": "markdown",
   "metadata": {},
   "source": [
    "##### **From the above built 3 models we can conclude that the relationship is significant since we got a 75% + result from all models which means the data is accurate and the model built works great. No assumptions are violated since there is hardly a few percent diffirence of the accuracy among the models hence the assumptions are perfectly fine**<br><br>\n",
    "****"
   ]
  },
  {
   "cell_type": "markdown",
   "metadata": {},
   "source": [
    "# <a id='5'>5. Part C - Multi-colinearity and step-wise Regression</a>"
   ]
  },
  {
   "cell_type": "markdown",
   "metadata": {},
   "source": [
    "**Taking model 1 from linear Regression** <br>\n",
    "Using backward step wise regression that is taking out unnecessary features step by step\n",
    "<br>\n",
    "Colinearity is the state where two variables are highly correlated and contain similiar information about the variance within a given dataset. To detect colinearity among variables, simply create a correlation matrix and find variables with large absolute values. While,Multicolinearity on the other hand is more troublesome to detect because it emerges when three or more variables, which are highly correlated, are included within a model. To make matters worst multicolinearity can emerge even when isolated pairs of variables are not colinear.\n",
    "\n",
    "The Variance Inflation Factor (VIF) is a measure of colinearity among predictor variables within a multiple regression. It is calculated by taking the the ratio of the variance of all a given model's betas divide by the variane of a single beta if it were fit alone.\n",
    "\n",
    "Steps for Implementing VIF:\n",
    "1. Run a multiple regression.\n",
    "2. Calculate the VIF factors.\n",
    "3. Inspect the factors for each predictor variable, if the VIF is too high, multicolinearity is likely present and you   should consider dropping the variable."
   ]
  },
  {
   "cell_type": "code",
   "execution_count": 55,
   "metadata": {},
   "outputs": [
    {
     "name": "stdout",
     "output_type": "stream",
     "text": [
      "R2 0.13329940094369083\n",
      "Mean RMSE 0.379955725125438\n"
     ]
    },
    {
     "data": {
      "text/html": [
       "<table class=\"simpletable\">\n",
       "<caption>OLS Regression Results</caption>\n",
       "<tr>\n",
       "  <th>Dep. Variable:</th>         <td>Reviews</td>     <th>  R-squared:         </th> <td>   0.176</td> \n",
       "</tr>\n",
       "<tr>\n",
       "  <th>Model:</th>                   <td>OLS</td>       <th>  Adj. R-squared:    </th> <td>   0.174</td> \n",
       "</tr>\n",
       "<tr>\n",
       "  <th>Method:</th>             <td>Least Squares</td>  <th>  F-statistic:       </th> <td>   104.3</td> \n",
       "</tr>\n",
       "<tr>\n",
       "  <th>Date:</th>             <td>Thu, 18 Apr 2019</td> <th>  Prob (F-statistic):</th> <td>6.18e-197</td>\n",
       "</tr>\n",
       "<tr>\n",
       "  <th>Time:</th>                 <td>12:01:48</td>     <th>  Log-Likelihood:    </th> <td> -2130.4</td> \n",
       "</tr>\n",
       "<tr>\n",
       "  <th>No. Observations:</th>      <td>  4898</td>      <th>  AIC:               </th> <td>   4283.</td> \n",
       "</tr>\n",
       "<tr>\n",
       "  <th>Df Residuals:</th>          <td>  4887</td>      <th>  BIC:               </th> <td>   4354.</td> \n",
       "</tr>\n",
       "<tr>\n",
       "  <th>Df Model:</th>              <td>    10</td>      <th>                     </th>     <td> </td>    \n",
       "</tr>\n",
       "<tr>\n",
       "  <th>Covariance Type:</th>      <td>nonrobust</td>    <th>                     </th>     <td> </td>    \n",
       "</tr>\n",
       "</table>\n",
       "<table class=\"simpletable\">\n",
       "<tr>\n",
       "            <td></td>              <th>coef</th>     <th>std err</th>      <th>t</th>      <th>P>|t|</th>  <th>[0.025</th>    <th>0.975]</th>  \n",
       "</tr>\n",
       "<tr>\n",
       "  <th>const</th>                <td>  106.3397</td> <td>    4.273</td> <td>   24.888</td> <td> 0.000</td> <td>   97.963</td> <td>  114.716</td>\n",
       "</tr>\n",
       "<tr>\n",
       "  <th>fixed_acidity</th>        <td>    0.0789</td> <td>    0.008</td> <td>    9.532</td> <td> 0.000</td> <td>    0.063</td> <td>    0.095</td>\n",
       "</tr>\n",
       "<tr>\n",
       "  <th>volatile_acidity</th>     <td>   -0.2546</td> <td>    0.056</td> <td>   -4.568</td> <td> 0.000</td> <td>   -0.364</td> <td>   -0.145</td>\n",
       "</tr>\n",
       "<tr>\n",
       "  <th>citric_acid</th>          <td>   -0.0117</td> <td>    0.047</td> <td>   -0.246</td> <td> 0.806</td> <td>   -0.105</td> <td>    0.081</td>\n",
       "</tr>\n",
       "<tr>\n",
       "  <th>residual_sugar</th>       <td>    0.0463</td> <td>    0.002</td> <td>   19.791</td> <td> 0.000</td> <td>    0.042</td> <td>    0.051</td>\n",
       "</tr>\n",
       "<tr>\n",
       "  <th>chlorides</th>            <td>   -0.2792</td> <td>    0.272</td> <td>   -1.025</td> <td> 0.305</td> <td>   -0.813</td> <td>    0.255</td>\n",
       "</tr>\n",
       "<tr>\n",
       "  <th>free_sulfur_dioxide</th>  <td>    0.0012</td> <td>    0.000</td> <td>    2.920</td> <td> 0.004</td> <td>    0.000</td> <td>    0.002</td>\n",
       "</tr>\n",
       "<tr>\n",
       "  <th>total_sulfur_dioxide</th> <td>   -0.0002</td> <td>    0.000</td> <td>   -1.071</td> <td> 0.284</td> <td>   -0.001</td> <td>    0.000</td>\n",
       "</tr>\n",
       "<tr>\n",
       "  <th>density</th>              <td> -109.2765</td> <td>    4.392</td> <td>  -24.880</td> <td> 0.000</td> <td> -117.887</td> <td> -100.666</td>\n",
       "</tr>\n",
       "<tr>\n",
       "  <th>pH</th>                   <td>    0.4920</td> <td>    0.043</td> <td>   11.366</td> <td> 0.000</td> <td>    0.407</td> <td>    0.577</td>\n",
       "</tr>\n",
       "<tr>\n",
       "  <th>sulphates</th>            <td>    0.3408</td> <td>    0.048</td> <td>    7.033</td> <td> 0.000</td> <td>    0.246</td> <td>    0.436</td>\n",
       "</tr>\n",
       "</table>\n",
       "<table class=\"simpletable\">\n",
       "<tr>\n",
       "  <th>Omnibus:</th>       <td>627.929</td> <th>  Durbin-Watson:     </th> <td>   1.583</td> \n",
       "</tr>\n",
       "<tr>\n",
       "  <th>Prob(Omnibus):</th> <td> 0.000</td>  <th>  Jarque-Bera (JB):  </th> <td> 902.524</td> \n",
       "</tr>\n",
       "<tr>\n",
       "  <th>Skew:</th>          <td> 1.050</td>  <th>  Prob(JB):          </th> <td>1.05e-196</td>\n",
       "</tr>\n",
       "<tr>\n",
       "  <th>Kurtosis:</th>      <td> 3.106</td>  <th>  Cond. No.          </th> <td>1.72e+05</td> \n",
       "</tr>\n",
       "</table><br/><br/>Warnings:<br/>[1] Standard Errors assume that the covariance matrix of the errors is correctly specified.<br/>[2] The condition number is large, 1.72e+05. This might indicate that there are<br/>strong multicollinearity or other numerical problems."
      ],
      "text/plain": [
       "<class 'statsmodels.iolib.summary.Summary'>\n",
       "\"\"\"\n",
       "                            OLS Regression Results                            \n",
       "==============================================================================\n",
       "Dep. Variable:                Reviews   R-squared:                       0.176\n",
       "Model:                            OLS   Adj. R-squared:                  0.174\n",
       "Method:                 Least Squares   F-statistic:                     104.3\n",
       "Date:                Thu, 18 Apr 2019   Prob (F-statistic):          6.18e-197\n",
       "Time:                        12:01:48   Log-Likelihood:                -2130.4\n",
       "No. Observations:                4898   AIC:                             4283.\n",
       "Df Residuals:                    4887   BIC:                             4354.\n",
       "Df Model:                          10                                         \n",
       "Covariance Type:            nonrobust                                         \n",
       "========================================================================================\n",
       "                           coef    std err          t      P>|t|      [0.025      0.975]\n",
       "----------------------------------------------------------------------------------------\n",
       "const                  106.3397      4.273     24.888      0.000      97.963     114.716\n",
       "fixed_acidity            0.0789      0.008      9.532      0.000       0.063       0.095\n",
       "volatile_acidity        -0.2546      0.056     -4.568      0.000      -0.364      -0.145\n",
       "citric_acid             -0.0117      0.047     -0.246      0.806      -0.105       0.081\n",
       "residual_sugar           0.0463      0.002     19.791      0.000       0.042       0.051\n",
       "chlorides               -0.2792      0.272     -1.025      0.305      -0.813       0.255\n",
       "free_sulfur_dioxide      0.0012      0.000      2.920      0.004       0.000       0.002\n",
       "total_sulfur_dioxide    -0.0002      0.000     -1.071      0.284      -0.001       0.000\n",
       "density               -109.2765      4.392    -24.880      0.000    -117.887    -100.666\n",
       "pH                       0.4920      0.043     11.366      0.000       0.407       0.577\n",
       "sulphates                0.3408      0.048      7.033      0.000       0.246       0.436\n",
       "==============================================================================\n",
       "Omnibus:                      627.929   Durbin-Watson:                   1.583\n",
       "Prob(Omnibus):                  0.000   Jarque-Bera (JB):              902.524\n",
       "Skew:                           1.050   Prob(JB):                    1.05e-196\n",
       "Kurtosis:                       3.106   Cond. No.                     1.72e+05\n",
       "==============================================================================\n",
       "\n",
       "Warnings:\n",
       "[1] Standard Errors assume that the covariance matrix of the errors is correctly specified.\n",
       "[2] The condition number is large, 1.72e+05. This might indicate that there are\n",
       "strong multicollinearity or other numerical problems.\n",
       "\"\"\""
      ]
     },
     "execution_count": 55,
     "metadata": {},
     "output_type": "execute_result"
    }
   ],
   "source": [
    "#splitting data for traning and testing\n",
    "X = df_white[['fixed_acidity', 'volatile_acidity', 'citric_acid', 'residual_sugar',\n",
    "       'chlorides', 'free_sulfur_dioxide', 'total_sulfur_dioxide', 'density',\n",
    "       'pH', 'sulphates']]\n",
    "\n",
    "y= df_white['Reviews']\n",
    "#X=df_white[features]\n",
    "lm = LinearRegression()\n",
    "r2= cross_val_score(lm, X, y, cv=5, scoring = make_scorer(r2_score))\n",
    "ms_errors= cross_val_score(lm, X, y, cv=5, scoring = make_scorer(mean_squared_error))\n",
    "rms_errors = np.sqrt(ms_errors)\n",
    "mean_rms_error = rms_errors.mean()\n",
    "print(\"R2\",r2.mean())\n",
    "print(\"Mean RMSE\",mean_rms_error)\n",
    "#training model\n",
    "X2 = sm.add_constant(X)\n",
    "y =y\n",
    "model = linear_model.LinearRegression()\n",
    "model = sm.OLS(y.astype(float), X2.astype(float))\n",
    "results = model.fit()\n",
    "results.summary()"
   ]
  },
  {
   "cell_type": "code",
   "execution_count": 56,
   "metadata": {},
   "outputs": [
    {
     "data": {
      "text/html": [
       "<div>\n",
       "<style scoped>\n",
       "    .dataframe tbody tr th:only-of-type {\n",
       "        vertical-align: middle;\n",
       "    }\n",
       "\n",
       "    .dataframe tbody tr th {\n",
       "        vertical-align: top;\n",
       "    }\n",
       "\n",
       "    .dataframe thead th {\n",
       "        text-align: right;\n",
       "    }\n",
       "</style>\n",
       "<table border=\"1\" class=\"dataframe\">\n",
       "  <thead>\n",
       "    <tr style=\"text-align: right;\">\n",
       "      <th></th>\n",
       "      <th>VIF Factor</th>\n",
       "      <th>features</th>\n",
       "    </tr>\n",
       "  </thead>\n",
       "  <tbody>\n",
       "    <tr>\n",
       "      <th>0</th>\n",
       "      <td>92.7</td>\n",
       "      <td>fixed_acidity</td>\n",
       "    </tr>\n",
       "    <tr>\n",
       "      <th>1</th>\n",
       "      <td>9.4</td>\n",
       "      <td>volatile_acidity</td>\n",
       "    </tr>\n",
       "    <tr>\n",
       "      <th>2</th>\n",
       "      <td>10.0</td>\n",
       "      <td>citric_acid</td>\n",
       "    </tr>\n",
       "    <tr>\n",
       "      <th>3</th>\n",
       "      <td>3.4</td>\n",
       "      <td>residual_sugar</td>\n",
       "    </tr>\n",
       "    <tr>\n",
       "      <th>4</th>\n",
       "      <td>5.8</td>\n",
       "      <td>chlorides</td>\n",
       "    </tr>\n",
       "    <tr>\n",
       "      <th>5</th>\n",
       "      <td>9.2</td>\n",
       "      <td>free_sulfur_dioxide</td>\n",
       "    </tr>\n",
       "    <tr>\n",
       "      <th>6</th>\n",
       "      <td>22.8</td>\n",
       "      <td>total_sulfur_dioxide</td>\n",
       "    </tr>\n",
       "    <tr>\n",
       "      <th>7</th>\n",
       "      <td>921.0</td>\n",
       "      <td>density</td>\n",
       "    </tr>\n",
       "    <tr>\n",
       "      <th>8</th>\n",
       "      <td>608.3</td>\n",
       "      <td>pH</td>\n",
       "    </tr>\n",
       "    <tr>\n",
       "      <th>9</th>\n",
       "      <td>20.5</td>\n",
       "      <td>sulphates</td>\n",
       "    </tr>\n",
       "  </tbody>\n",
       "</table>\n",
       "</div>"
      ],
      "text/plain": [
       "   VIF Factor              features\n",
       "0        92.7         fixed_acidity\n",
       "1         9.4      volatile_acidity\n",
       "2        10.0           citric_acid\n",
       "3         3.4        residual_sugar\n",
       "4         5.8             chlorides\n",
       "5         9.2   free_sulfur_dioxide\n",
       "6        22.8  total_sulfur_dioxide\n",
       "7       921.0               density\n",
       "8       608.3                    pH\n",
       "9        20.5             sulphates"
      ]
     },
     "execution_count": 56,
     "metadata": {},
     "output_type": "execute_result"
    }
   ],
   "source": [
    "from statsmodels.stats.outliers_influence import variance_inflation_factor\n",
    "vif = pd.DataFrame()\n",
    "vif[\"VIF Factor\"] = [variance_inflation_factor(X.values, i) for i in range(X.shape[1])]\n",
    "vif[\"features\"] = X.columns\n",
    "vif.round(1)"
   ]
  },
  {
   "cell_type": "code",
   "execution_count": 57,
   "metadata": {},
   "outputs": [
    {
     "name": "stdout",
     "output_type": "stream",
     "text": [
      "R2 0.13642518214036636\n",
      "Mean RMSE 0.3791750845751156\n"
     ]
    },
    {
     "data": {
      "text/html": [
       "<table class=\"simpletable\">\n",
       "<caption>OLS Regression Results</caption>\n",
       "<tr>\n",
       "  <th>Dep. Variable:</th>         <td>Reviews</td>     <th>  R-squared:         </th> <td>   0.179</td> \n",
       "</tr>\n",
       "<tr>\n",
       "  <th>Model:</th>                   <td>OLS</td>       <th>  Adj. R-squared:    </th> <td>   0.177</td> \n",
       "</tr>\n",
       "<tr>\n",
       "  <th>Method:</th>             <td>Least Squares</td>  <th>  F-statistic:       </th> <td>   133.0</td> \n",
       "</tr>\n",
       "<tr>\n",
       "  <th>Date:</th>             <td>Thu, 18 Apr 2019</td> <th>  Prob (F-statistic):</th> <td>1.29e-202</td>\n",
       "</tr>\n",
       "<tr>\n",
       "  <th>Time:</th>                 <td>12:01:48</td>     <th>  Log-Likelihood:    </th> <td> -2122.2</td> \n",
       "</tr>\n",
       "<tr>\n",
       "  <th>No. Observations:</th>      <td>  4898</td>      <th>  AIC:               </th> <td>   4262.</td> \n",
       "</tr>\n",
       "<tr>\n",
       "  <th>Df Residuals:</th>          <td>  4889</td>      <th>  BIC:               </th> <td>   4321.</td> \n",
       "</tr>\n",
       "<tr>\n",
       "  <th>Df Model:</th>              <td>     8</td>      <th>                     </th>     <td> </td>    \n",
       "</tr>\n",
       "<tr>\n",
       "  <th>Covariance Type:</th>      <td>nonrobust</td>    <th>                     </th>     <td> </td>    \n",
       "</tr>\n",
       "</table>\n",
       "<table class=\"simpletable\">\n",
       "<tr>\n",
       "           <td></td>              <th>coef</th>     <th>std err</th>      <th>t</th>      <th>P>|t|</th>  <th>[0.025</th>    <th>0.975]</th>  \n",
       "</tr>\n",
       "<tr>\n",
       "  <th>const</th>               <td>   86.3225</td> <td>    6.490</td> <td>   13.302</td> <td> 0.000</td> <td>   73.600</td> <td>   99.045</td>\n",
       "</tr>\n",
       "<tr>\n",
       "  <th>fixed_acidity</th>       <td>    0.0615</td> <td>    0.009</td> <td>    6.841</td> <td> 0.000</td> <td>    0.044</td> <td>    0.079</td>\n",
       "</tr>\n",
       "<tr>\n",
       "  <th>volatile_acidity</th>    <td>   -0.2927</td> <td>    0.054</td> <td>   -5.439</td> <td> 0.000</td> <td>   -0.398</td> <td>   -0.187</td>\n",
       "</tr>\n",
       "<tr>\n",
       "  <th>residual_sugar</th>      <td>    0.0391</td> <td>    0.003</td> <td>   13.404</td> <td> 0.000</td> <td>    0.033</td> <td>    0.045</td>\n",
       "</tr>\n",
       "<tr>\n",
       "  <th>free_sulfur_dioxide</th> <td>    0.0010</td> <td>    0.000</td> <td>    3.074</td> <td> 0.002</td> <td>    0.000</td> <td>    0.002</td>\n",
       "</tr>\n",
       "<tr>\n",
       "  <th>density</th>             <td>  -88.8409</td> <td>    6.644</td> <td>  -13.371</td> <td> 0.000</td> <td> -101.867</td> <td>  -75.815</td>\n",
       "</tr>\n",
       "<tr>\n",
       "  <th>pH</th>                  <td>    0.4133</td> <td>    0.047</td> <td>    8.818</td> <td> 0.000</td> <td>    0.321</td> <td>    0.505</td>\n",
       "</tr>\n",
       "<tr>\n",
       "  <th>sulphates</th>           <td>    0.3034</td> <td>    0.049</td> <td>    6.234</td> <td> 0.000</td> <td>    0.208</td> <td>    0.399</td>\n",
       "</tr>\n",
       "<tr>\n",
       "  <th>AlcoholMc</th>           <td>    0.0648</td> <td>    0.015</td> <td>    4.351</td> <td> 0.000</td> <td>    0.036</td> <td>    0.094</td>\n",
       "</tr>\n",
       "</table>\n",
       "<table class=\"simpletable\">\n",
       "<tr>\n",
       "  <th>Omnibus:</th>       <td>600.299</td> <th>  Durbin-Watson:     </th> <td>   1.588</td> \n",
       "</tr>\n",
       "<tr>\n",
       "  <th>Prob(Omnibus):</th> <td> 0.000</td>  <th>  Jarque-Bera (JB):  </th> <td> 851.175</td> \n",
       "</tr>\n",
       "<tr>\n",
       "  <th>Skew:</th>          <td> 1.021</td>  <th>  Prob(JB):          </th> <td>1.48e-185</td>\n",
       "</tr>\n",
       "<tr>\n",
       "  <th>Kurtosis:</th>      <td> 3.022</td>  <th>  Cond. No.          </th> <td>7.02e+04</td> \n",
       "</tr>\n",
       "</table><br/><br/>Warnings:<br/>[1] Standard Errors assume that the covariance matrix of the errors is correctly specified.<br/>[2] The condition number is large, 7.02e+04. This might indicate that there are<br/>strong multicollinearity or other numerical problems."
      ],
      "text/plain": [
       "<class 'statsmodels.iolib.summary.Summary'>\n",
       "\"\"\"\n",
       "                            OLS Regression Results                            \n",
       "==============================================================================\n",
       "Dep. Variable:                Reviews   R-squared:                       0.179\n",
       "Model:                            OLS   Adj. R-squared:                  0.177\n",
       "Method:                 Least Squares   F-statistic:                     133.0\n",
       "Date:                Thu, 18 Apr 2019   Prob (F-statistic):          1.29e-202\n",
       "Time:                        12:01:48   Log-Likelihood:                -2122.2\n",
       "No. Observations:                4898   AIC:                             4262.\n",
       "Df Residuals:                    4889   BIC:                             4321.\n",
       "Df Model:                           8                                         \n",
       "Covariance Type:            nonrobust                                         \n",
       "=======================================================================================\n",
       "                          coef    std err          t      P>|t|      [0.025      0.975]\n",
       "---------------------------------------------------------------------------------------\n",
       "const                  86.3225      6.490     13.302      0.000      73.600      99.045\n",
       "fixed_acidity           0.0615      0.009      6.841      0.000       0.044       0.079\n",
       "volatile_acidity       -0.2927      0.054     -5.439      0.000      -0.398      -0.187\n",
       "residual_sugar          0.0391      0.003     13.404      0.000       0.033       0.045\n",
       "free_sulfur_dioxide     0.0010      0.000      3.074      0.002       0.000       0.002\n",
       "density               -88.8409      6.644    -13.371      0.000    -101.867     -75.815\n",
       "pH                      0.4133      0.047      8.818      0.000       0.321       0.505\n",
       "sulphates               0.3034      0.049      6.234      0.000       0.208       0.399\n",
       "AlcoholMc               0.0648      0.015      4.351      0.000       0.036       0.094\n",
       "==============================================================================\n",
       "Omnibus:                      600.299   Durbin-Watson:                   1.588\n",
       "Prob(Omnibus):                  0.000   Jarque-Bera (JB):              851.175\n",
       "Skew:                           1.021   Prob(JB):                    1.48e-185\n",
       "Kurtosis:                       3.022   Cond. No.                     7.02e+04\n",
       "==============================================================================\n",
       "\n",
       "Warnings:\n",
       "[1] Standard Errors assume that the covariance matrix of the errors is correctly specified.\n",
       "[2] The condition number is large, 7.02e+04. This might indicate that there are\n",
       "strong multicollinearity or other numerical problems.\n",
       "\"\"\""
      ]
     },
     "execution_count": 57,
     "metadata": {},
     "output_type": "execute_result"
    }
   ],
   "source": [
    "#splitting data for traning and testing\n",
    "features = ['fixed_acidity', 'volatile_acidity', 'residual_sugar',\n",
    "        'free_sulfur_dioxide', 'density',\n",
    "       'pH', 'sulphates', 'AlcoholMc']\n",
    "\n",
    "y= df_white['Reviews']\n",
    "X=df_white[features]\n",
    "lm = LinearRegression()\n",
    "r2= cross_val_score(lm, X, y, cv=5, scoring = make_scorer(r2_score))\n",
    "ms_errors= cross_val_score(lm, X, y, cv=5, scoring = make_scorer(mean_squared_error))\n",
    "rms_errors = np.sqrt(ms_errors)\n",
    "mean_rms_error = rms_errors.mean()\n",
    "print(\"R2\",r2.mean())\n",
    "print(\"Mean RMSE\",mean_rms_error)\n",
    "#training model\n",
    "X2 = sm.add_constant(X)\n",
    "y =y\n",
    "model = linear_model.LinearRegression()\n",
    "model = sm.OLS(y, X2)\n",
    "results = model.fit()\n",
    "results.summary()"
   ]
  },
  {
   "cell_type": "code",
   "execution_count": 58,
   "metadata": {},
   "outputs": [
    {
     "data": {
      "text/html": [
       "<div>\n",
       "<style scoped>\n",
       "    .dataframe tbody tr th:only-of-type {\n",
       "        vertical-align: middle;\n",
       "    }\n",
       "\n",
       "    .dataframe tbody tr th {\n",
       "        vertical-align: top;\n",
       "    }\n",
       "\n",
       "    .dataframe thead th {\n",
       "        text-align: right;\n",
       "    }\n",
       "</style>\n",
       "<table border=\"1\" class=\"dataframe\">\n",
       "  <thead>\n",
       "    <tr style=\"text-align: right;\">\n",
       "      <th></th>\n",
       "      <th>VIF Factor</th>\n",
       "      <th>features</th>\n",
       "    </tr>\n",
       "  </thead>\n",
       "  <tbody>\n",
       "    <tr>\n",
       "      <th>0</th>\n",
       "      <td>85.1</td>\n",
       "      <td>fixed_acidity</td>\n",
       "    </tr>\n",
       "    <tr>\n",
       "      <th>1</th>\n",
       "      <td>8.9</td>\n",
       "      <td>volatile_acidity</td>\n",
       "    </tr>\n",
       "    <tr>\n",
       "      <th>2</th>\n",
       "      <td>3.5</td>\n",
       "      <td>residual_sugar</td>\n",
       "    </tr>\n",
       "    <tr>\n",
       "      <th>3</th>\n",
       "      <td>6.1</td>\n",
       "      <td>free_sulfur_dioxide</td>\n",
       "    </tr>\n",
       "    <tr>\n",
       "      <th>4</th>\n",
       "      <td>895.5</td>\n",
       "      <td>density</td>\n",
       "    </tr>\n",
       "    <tr>\n",
       "      <th>5</th>\n",
       "      <td>594.5</td>\n",
       "      <td>pH</td>\n",
       "    </tr>\n",
       "    <tr>\n",
       "      <th>6</th>\n",
       "      <td>20.1</td>\n",
       "      <td>sulphates</td>\n",
       "    </tr>\n",
       "    <tr>\n",
       "      <th>7</th>\n",
       "      <td>8.6</td>\n",
       "      <td>AlcoholMc</td>\n",
       "    </tr>\n",
       "  </tbody>\n",
       "</table>\n",
       "</div>"
      ],
      "text/plain": [
       "   VIF Factor             features\n",
       "0        85.1        fixed_acidity\n",
       "1         8.9     volatile_acidity\n",
       "2         3.5       residual_sugar\n",
       "3         6.1  free_sulfur_dioxide\n",
       "4       895.5              density\n",
       "5       594.5                   pH\n",
       "6        20.1            sulphates\n",
       "7         8.6            AlcoholMc"
      ]
     },
     "execution_count": 58,
     "metadata": {},
     "output_type": "execute_result"
    }
   ],
   "source": [
    "# For each X, calculate VIF and save in dataframe\n",
    "from statsmodels.stats.outliers_influence import variance_inflation_factor\n",
    "vif = pd.DataFrame()\n",
    "vif[\"VIF Factor\"] = [variance_inflation_factor(X.values, i) for i in range(X.shape[1])]\n",
    "vif[\"features\"] = X.columns\n",
    "vif.round(1)"
   ]
  },
  {
   "cell_type": "code",
   "execution_count": 59,
   "metadata": {},
   "outputs": [
    {
     "name": "stdout",
     "output_type": "stream",
     "text": [
      "R2 0.1061116060062137\n",
      "Mean RMSE 0.38591806772494464\n"
     ]
    },
    {
     "data": {
      "text/html": [
       "<table class=\"simpletable\">\n",
       "<caption>OLS Regression Results</caption>\n",
       "<tr>\n",
       "  <th>Dep. Variable:</th>         <td>Reviews</td>     <th>  R-squared:         </th> <td>   0.142</td> \n",
       "</tr>\n",
       "<tr>\n",
       "  <th>Model:</th>                   <td>OLS</td>       <th>  Adj. R-squared:    </th> <td>   0.141</td> \n",
       "</tr>\n",
       "<tr>\n",
       "  <th>Method:</th>             <td>Least Squares</td>  <th>  F-statistic:       </th> <td>   161.9</td> \n",
       "</tr>\n",
       "<tr>\n",
       "  <th>Date:</th>             <td>Thu, 18 Apr 2019</td> <th>  Prob (F-statistic):</th> <td>1.13e-159</td>\n",
       "</tr>\n",
       "<tr>\n",
       "  <th>Time:</th>                 <td>12:01:48</td>     <th>  Log-Likelihood:    </th> <td> -2229.4</td> \n",
       "</tr>\n",
       "<tr>\n",
       "  <th>No. Observations:</th>      <td>  4898</td>      <th>  AIC:               </th> <td>   4471.</td> \n",
       "</tr>\n",
       "<tr>\n",
       "  <th>Df Residuals:</th>          <td>  4892</td>      <th>  BIC:               </th> <td>   4510.</td> \n",
       "</tr>\n",
       "<tr>\n",
       "  <th>Df Model:</th>              <td>     5</td>      <th>                     </th>     <td> </td>    \n",
       "</tr>\n",
       "<tr>\n",
       "  <th>Covariance Type:</th>      <td>nonrobust</td>    <th>                     </th>     <td> </td>    \n",
       "</tr>\n",
       "</table>\n",
       "<table class=\"simpletable\">\n",
       "<tr>\n",
       "         <td></td>           <th>coef</th>     <th>std err</th>      <th>t</th>      <th>P>|t|</th>  <th>[0.025</th>    <th>0.975]</th>  \n",
       "</tr>\n",
       "<tr>\n",
       "  <th>const</th>          <td>   -0.0575</td> <td>    0.058</td> <td>   -0.984</td> <td> 0.325</td> <td>   -0.172</td> <td>    0.057</td>\n",
       "</tr>\n",
       "<tr>\n",
       "  <th>fixed_acidity</th>  <td>   -0.0212</td> <td>    0.007</td> <td>   -3.251</td> <td> 0.001</td> <td>   -0.034</td> <td>   -0.008</td>\n",
       "</tr>\n",
       "<tr>\n",
       "  <th>residual_sugar</th> <td>    0.0031</td> <td>    0.001</td> <td>    2.583</td> <td> 0.010</td> <td>    0.001</td> <td>    0.005</td>\n",
       "</tr>\n",
       "<tr>\n",
       "  <th>sulphates</th>      <td>    0.2029</td> <td>    0.048</td> <td>    4.240</td> <td> 0.000</td> <td>    0.109</td> <td>    0.297</td>\n",
       "</tr>\n",
       "<tr>\n",
       "  <th>chlorides</th>      <td>   -1.2253</td> <td>    0.266</td> <td>   -4.600</td> <td> 0.000</td> <td>   -1.747</td> <td>   -0.703</td>\n",
       "</tr>\n",
       "<tr>\n",
       "  <th>AlcoholMc</th>      <td>    0.2072</td> <td>    0.009</td> <td>   22.825</td> <td> 0.000</td> <td>    0.189</td> <td>    0.225</td>\n",
       "</tr>\n",
       "</table>\n",
       "<table class=\"simpletable\">\n",
       "<tr>\n",
       "  <th>Omnibus:</th>       <td>662.691</td> <th>  Durbin-Watson:     </th> <td>   1.608</td> \n",
       "</tr>\n",
       "<tr>\n",
       "  <th>Prob(Omnibus):</th> <td> 0.000</td>  <th>  Jarque-Bera (JB):  </th> <td> 973.514</td> \n",
       "</tr>\n",
       "<tr>\n",
       "  <th>Skew:</th>          <td> 1.092</td>  <th>  Prob(JB):          </th> <td>4.02e-212</td>\n",
       "</tr>\n",
       "<tr>\n",
       "  <th>Kurtosis:</th>      <td> 3.012</td>  <th>  Cond. No.          </th> <td>    503.</td> \n",
       "</tr>\n",
       "</table><br/><br/>Warnings:<br/>[1] Standard Errors assume that the covariance matrix of the errors is correctly specified."
      ],
      "text/plain": [
       "<class 'statsmodels.iolib.summary.Summary'>\n",
       "\"\"\"\n",
       "                            OLS Regression Results                            \n",
       "==============================================================================\n",
       "Dep. Variable:                Reviews   R-squared:                       0.142\n",
       "Model:                            OLS   Adj. R-squared:                  0.141\n",
       "Method:                 Least Squares   F-statistic:                     161.9\n",
       "Date:                Thu, 18 Apr 2019   Prob (F-statistic):          1.13e-159\n",
       "Time:                        12:01:48   Log-Likelihood:                -2229.4\n",
       "No. Observations:                4898   AIC:                             4471.\n",
       "Df Residuals:                    4892   BIC:                             4510.\n",
       "Df Model:                           5                                         \n",
       "Covariance Type:            nonrobust                                         \n",
       "==================================================================================\n",
       "                     coef    std err          t      P>|t|      [0.025      0.975]\n",
       "----------------------------------------------------------------------------------\n",
       "const             -0.0575      0.058     -0.984      0.325      -0.172       0.057\n",
       "fixed_acidity     -0.0212      0.007     -3.251      0.001      -0.034      -0.008\n",
       "residual_sugar     0.0031      0.001      2.583      0.010       0.001       0.005\n",
       "sulphates          0.2029      0.048      4.240      0.000       0.109       0.297\n",
       "chlorides         -1.2253      0.266     -4.600      0.000      -1.747      -0.703\n",
       "AlcoholMc          0.2072      0.009     22.825      0.000       0.189       0.225\n",
       "==============================================================================\n",
       "Omnibus:                      662.691   Durbin-Watson:                   1.608\n",
       "Prob(Omnibus):                  0.000   Jarque-Bera (JB):              973.514\n",
       "Skew:                           1.092   Prob(JB):                    4.02e-212\n",
       "Kurtosis:                       3.012   Cond. No.                         503.\n",
       "==============================================================================\n",
       "\n",
       "Warnings:\n",
       "[1] Standard Errors assume that the covariance matrix of the errors is correctly specified.\n",
       "\"\"\""
      ]
     },
     "execution_count": 59,
     "metadata": {},
     "output_type": "execute_result"
    }
   ],
   "source": [
    "#splitting data for traning and testing\n",
    "features = ['fixed_acidity', 'residual_sugar','sulphates',\n",
    "       'chlorides', 'AlcoholMc']\n",
    "\n",
    "y = df_white['Reviews']\n",
    "X = df_white[features]\n",
    "lm = LinearRegression()\n",
    "r2= cross_val_score(lm, X, y, cv=5, scoring = make_scorer(r2_score))\n",
    "ms_errors= cross_val_score(lm, X, y, cv=5, scoring = make_scorer(mean_squared_error))\n",
    "rms_errors = np.sqrt(ms_errors)\n",
    "mean_rms_error = rms_errors.mean()\n",
    "print(\"R2\",r2.mean())\n",
    "print(\"Mean RMSE\",mean_rms_error)\n",
    "#training model\n",
    "X2 = sm.add_constant(X)\n",
    "y =y\n",
    "model = linear_model.LinearRegression()\n",
    "model = sm.OLS(y, X2)\n",
    "results = model.fit()\n",
    "results.summary()"
   ]
  },
  {
   "cell_type": "code",
   "execution_count": 60,
   "metadata": {},
   "outputs": [
    {
     "data": {
      "text/html": [
       "<div>\n",
       "<style scoped>\n",
       "    .dataframe tbody tr th:only-of-type {\n",
       "        vertical-align: middle;\n",
       "    }\n",
       "\n",
       "    .dataframe tbody tr th {\n",
       "        vertical-align: top;\n",
       "    }\n",
       "\n",
       "    .dataframe thead th {\n",
       "        text-align: right;\n",
       "    }\n",
       "</style>\n",
       "<table border=\"1\" class=\"dataframe\">\n",
       "  <thead>\n",
       "    <tr style=\"text-align: right;\">\n",
       "      <th></th>\n",
       "      <th>VIF Factor</th>\n",
       "      <th>features</th>\n",
       "    </tr>\n",
       "  </thead>\n",
       "  <tbody>\n",
       "    <tr>\n",
       "      <th>0</th>\n",
       "      <td>25.7</td>\n",
       "      <td>fixed_acidity</td>\n",
       "    </tr>\n",
       "    <tr>\n",
       "      <th>1</th>\n",
       "      <td>3.0</td>\n",
       "      <td>residual_sugar</td>\n",
       "    </tr>\n",
       "    <tr>\n",
       "      <th>2</th>\n",
       "      <td>15.9</td>\n",
       "      <td>sulphates</td>\n",
       "    </tr>\n",
       "    <tr>\n",
       "      <th>3</th>\n",
       "      <td>5.5</td>\n",
       "      <td>chlorides</td>\n",
       "    </tr>\n",
       "    <tr>\n",
       "      <th>4</th>\n",
       "      <td>7.5</td>\n",
       "      <td>AlcoholMc</td>\n",
       "    </tr>\n",
       "  </tbody>\n",
       "</table>\n",
       "</div>"
      ],
      "text/plain": [
       "   VIF Factor        features\n",
       "0        25.7   fixed_acidity\n",
       "1         3.0  residual_sugar\n",
       "2        15.9       sulphates\n",
       "3         5.5       chlorides\n",
       "4         7.5       AlcoholMc"
      ]
     },
     "execution_count": 60,
     "metadata": {},
     "output_type": "execute_result"
    }
   ],
   "source": [
    "# For each X, calculate VIF and save in dataframe\n",
    "from statsmodels.stats.outliers_influence import variance_inflation_factor\n",
    "vif = pd.DataFrame()\n",
    "vif[\"VIF Factor\"] = [variance_inflation_factor(X.values, i) for i in range(X.shape[1])]\n",
    "vif[\"features\"] = X.columns\n",
    "vif.round(1)"
   ]
  },
  {
   "cell_type": "markdown",
   "metadata": {},
   "source": [
    "If we properly see the heat maps in the visualization part we can make out that\n",
    "<ul>\n",
    "<li>Quality is moderately correlated with alcohol</li>\n",
    "<li>Alcohol is moderately correlated with the density of wine apart from being moderaltely correlated with quality</li>\n",
    "<li>Density is strongly correlated with residual sugar quantity and moderately correlated with pH</li>\n",
    "<li>Free sulfur dioxide and total sulfur dioxide are strongly correlated</li>\n",
    "</ul>\n",
    "\n",
    "Thus we have to drop either one of the following to avoid multi-colinearity while building the models\n",
    "1. Free sulfur dioxide and total sulfur dioxide\n",
    "2. Density is strongly and sugar quantity\n",
    "\n",
    "To conclude we need to take out multicolinearity right before we start the model"
   ]
  },
  {
   "cell_type": "markdown",
   "metadata": {},
   "source": [
    "****"
   ]
  },
  {
   "cell_type": "markdown",
   "metadata": {},
   "source": [
    "# <a id='6'>6. Interaction effects </a>"
   ]
  },
  {
   "cell_type": "markdown",
   "metadata": {},
   "source": [
    "**Model 1**"
   ]
  },
  {
   "cell_type": "markdown",
   "metadata": {},
   "source": [
    "In this we multiply two multi colinear variables and add them as a single factor in the featues to check the interaction effects on the model\n",
    "\n",
    "In the below model since we can makeout from the heat map that free-sulphur-dioxide and total-sulfur-dioxide are highly correlated we combined them into full-sulfur-dioxide and added it as a feature"
   ]
  },
  {
   "cell_type": "code",
   "execution_count": 61,
   "metadata": {},
   "outputs": [],
   "source": [
    "df_white['Full_sulfur_dioxide']=df_white['free_sulfur_dioxide' ]* df_white['total_sulfur_dioxide']\n",
    "features = ['Full_sulfur_dioxide','fixed_acidity', 'volatile_acidity', 'citric_acid', 'residual_sugar',\n",
    "       'chlorides', 'density', 'pH', 'sulphates', 'alcohol']\n",
    "X = df_white[features]\n",
    "Y = df_white['quality']\n"
   ]
  },
  {
   "cell_type": "code",
   "execution_count": 62,
   "metadata": {},
   "outputs": [
    {
     "name": "stdout",
     "output_type": "stream",
     "text": [
      "(3918, 10)\n",
      "(980, 10)\n",
      "(3918,)\n",
      "(980,)\n"
     ]
    }
   ],
   "source": [
    "X_train, X_test, Y_train, Y_test = train_test_split(X, Y, test_size = 0.2)\n",
    "print(X_train.shape)\n",
    "print(X_test.shape)\n",
    "print(Y_train.shape)\n",
    "print(Y_test.shape)"
   ]
  },
  {
   "cell_type": "code",
   "execution_count": 63,
   "metadata": {},
   "outputs": [
    {
     "name": "stdout",
     "output_type": "stream",
     "text": [
      "0.636734693877551\n"
     ]
    }
   ],
   "source": [
    "reg = LinearRegression()\n",
    "reg.fit(X_train, Y_train)\n",
    "pred=reg.predict(X_test)\n",
    "pred=np.round_(pred)\n",
    "print (mean_squared_error(Y_test,pred))"
   ]
  },
  {
   "cell_type": "code",
   "execution_count": 64,
   "metadata": {},
   "outputs": [
    {
     "data": {
      "text/html": [
       "<table class=\"simpletable\">\n",
       "<caption>OLS Regression Results</caption>\n",
       "<tr>\n",
       "  <th>Dep. Variable:</th>         <td>quality</td>     <th>  R-squared:         </th> <td>   0.984</td> \n",
       "</tr>\n",
       "<tr>\n",
       "  <th>Model:</th>                   <td>OLS</td>       <th>  Adj. R-squared:    </th> <td>   0.984</td> \n",
       "</tr>\n",
       "<tr>\n",
       "  <th>Method:</th>             <td>Least Squares</td>  <th>  F-statistic:       </th> <td>2.958e+04</td>\n",
       "</tr>\n",
       "<tr>\n",
       "  <th>Date:</th>             <td>Thu, 18 Apr 2019</td> <th>  Prob (F-statistic):</th>  <td>  0.00</td>  \n",
       "</tr>\n",
       "<tr>\n",
       "  <th>Time:</th>                 <td>12:01:48</td>     <th>  Log-Likelihood:    </th> <td> -5592.5</td> \n",
       "</tr>\n",
       "<tr>\n",
       "  <th>No. Observations:</th>      <td>  4898</td>      <th>  AIC:               </th> <td>1.120e+04</td>\n",
       "</tr>\n",
       "<tr>\n",
       "  <th>Df Residuals:</th>          <td>  4888</td>      <th>  BIC:               </th> <td>1.127e+04</td>\n",
       "</tr>\n",
       "<tr>\n",
       "  <th>Df Model:</th>              <td>    10</td>      <th>                     </th>     <td> </td>    \n",
       "</tr>\n",
       "<tr>\n",
       "  <th>Covariance Type:</th>      <td>nonrobust</td>    <th>                     </th>     <td> </td>    \n",
       "</tr>\n",
       "</table>\n",
       "<table class=\"simpletable\">\n",
       "<tr>\n",
       "           <td></td>              <th>coef</th>     <th>std err</th>      <th>t</th>      <th>P>|t|</th>  <th>[0.025</th>    <th>0.975]</th>  \n",
       "</tr>\n",
       "<tr>\n",
       "  <th>Full_sulfur_dioxide</th> <td> 3.459e-07</td> <td>  2.9e-06</td> <td>    0.119</td> <td> 0.905</td> <td>-5.34e-06</td> <td> 6.04e-06</td>\n",
       "</tr>\n",
       "<tr>\n",
       "  <th>fixed_acidity</th>       <td>   -0.0628</td> <td>    0.015</td> <td>   -4.208</td> <td> 0.000</td> <td>   -0.092</td> <td>   -0.034</td>\n",
       "</tr>\n",
       "<tr>\n",
       "  <th>volatile_acidity</th>    <td>   -2.0778</td> <td>    0.111</td> <td>  -18.750</td> <td> 0.000</td> <td>   -2.295</td> <td>   -1.861</td>\n",
       "</tr>\n",
       "<tr>\n",
       "  <th>citric_acid</th>         <td>   -0.0059</td> <td>    0.096</td> <td>   -0.061</td> <td> 0.951</td> <td>   -0.195</td> <td>    0.183</td>\n",
       "</tr>\n",
       "<tr>\n",
       "  <th>residual_sugar</th>      <td>    0.0270</td> <td>    0.003</td> <td>   10.539</td> <td> 0.000</td> <td>    0.022</td> <td>    0.032</td>\n",
       "</tr>\n",
       "<tr>\n",
       "  <th>chlorides</th>           <td>   -0.8955</td> <td>    0.544</td> <td>   -1.645</td> <td> 0.100</td> <td>   -1.962</td> <td>    0.171</td>\n",
       "</tr>\n",
       "<tr>\n",
       "  <th>density</th>             <td>    2.2147</td> <td>    0.353</td> <td>    6.268</td> <td> 0.000</td> <td>    1.522</td> <td>    2.907</td>\n",
       "</tr>\n",
       "<tr>\n",
       "  <th>pH</th>                  <td>    0.1525</td> <td>    0.083</td> <td>    1.832</td> <td> 0.067</td> <td>   -0.011</td> <td>    0.316</td>\n",
       "</tr>\n",
       "<tr>\n",
       "  <th>sulphates</th>           <td>    0.4126</td> <td>    0.097</td> <td>    4.254</td> <td> 0.000</td> <td>    0.222</td> <td>    0.603</td>\n",
       "</tr>\n",
       "<tr>\n",
       "  <th>alcohol</th>             <td>    0.3676</td> <td>    0.011</td> <td>   34.081</td> <td> 0.000</td> <td>    0.346</td> <td>    0.389</td>\n",
       "</tr>\n",
       "</table>\n",
       "<table class=\"simpletable\">\n",
       "<tr>\n",
       "  <th>Omnibus:</th>       <td>95.355</td> <th>  Durbin-Watson:     </th> <td>   1.621</td>\n",
       "</tr>\n",
       "<tr>\n",
       "  <th>Prob(Omnibus):</th> <td> 0.000</td> <th>  Jarque-Bera (JB):  </th> <td> 193.117</td>\n",
       "</tr>\n",
       "<tr>\n",
       "  <th>Skew:</th>          <td> 0.071</td> <th>  Prob(JB):          </th> <td>1.16e-42</td>\n",
       "</tr>\n",
       "<tr>\n",
       "  <th>Kurtosis:</th>      <td> 3.962</td> <th>  Cond. No.          </th> <td>3.45e+05</td>\n",
       "</tr>\n",
       "</table><br/><br/>Warnings:<br/>[1] Standard Errors assume that the covariance matrix of the errors is correctly specified.<br/>[2] The condition number is large, 3.45e+05. This might indicate that there are<br/>strong multicollinearity or other numerical problems."
      ],
      "text/plain": [
       "<class 'statsmodels.iolib.summary.Summary'>\n",
       "\"\"\"\n",
       "                            OLS Regression Results                            \n",
       "==============================================================================\n",
       "Dep. Variable:                quality   R-squared:                       0.984\n",
       "Model:                            OLS   Adj. R-squared:                  0.984\n",
       "Method:                 Least Squares   F-statistic:                 2.958e+04\n",
       "Date:                Thu, 18 Apr 2019   Prob (F-statistic):               0.00\n",
       "Time:                        12:01:48   Log-Likelihood:                -5592.5\n",
       "No. Observations:                4898   AIC:                         1.120e+04\n",
       "Df Residuals:                    4888   BIC:                         1.127e+04\n",
       "Df Model:                          10                                         \n",
       "Covariance Type:            nonrobust                                         \n",
       "=======================================================================================\n",
       "                          coef    std err          t      P>|t|      [0.025      0.975]\n",
       "---------------------------------------------------------------------------------------\n",
       "Full_sulfur_dioxide  3.459e-07    2.9e-06      0.119      0.905   -5.34e-06    6.04e-06\n",
       "fixed_acidity          -0.0628      0.015     -4.208      0.000      -0.092      -0.034\n",
       "volatile_acidity       -2.0778      0.111    -18.750      0.000      -2.295      -1.861\n",
       "citric_acid            -0.0059      0.096     -0.061      0.951      -0.195       0.183\n",
       "residual_sugar          0.0270      0.003     10.539      0.000       0.022       0.032\n",
       "chlorides              -0.8955      0.544     -1.645      0.100      -1.962       0.171\n",
       "density                 2.2147      0.353      6.268      0.000       1.522       2.907\n",
       "pH                      0.1525      0.083      1.832      0.067      -0.011       0.316\n",
       "sulphates               0.4126      0.097      4.254      0.000       0.222       0.603\n",
       "alcohol                 0.3676      0.011     34.081      0.000       0.346       0.389\n",
       "==============================================================================\n",
       "Omnibus:                       95.355   Durbin-Watson:                   1.621\n",
       "Prob(Omnibus):                  0.000   Jarque-Bera (JB):              193.117\n",
       "Skew:                           0.071   Prob(JB):                     1.16e-42\n",
       "Kurtosis:                       3.962   Cond. No.                     3.45e+05\n",
       "==============================================================================\n",
       "\n",
       "Warnings:\n",
       "[1] Standard Errors assume that the covariance matrix of the errors is correctly specified.\n",
       "[2] The condition number is large, 3.45e+05. This might indicate that there are\n",
       "strong multicollinearity or other numerical problems.\n",
       "\"\"\""
      ]
     },
     "execution_count": 64,
     "metadata": {},
     "output_type": "execute_result"
    }
   ],
   "source": [
    "m1 = sm.OLS(Y.astype(float), X.astype(float)).fit()\n",
    "m1.summary()"
   ]
  },
  {
   "cell_type": "code",
   "execution_count": 65,
   "metadata": {},
   "outputs": [
    {
     "data": {
      "text/plain": [
       "0.2528293668084611"
      ]
     },
     "execution_count": 65,
     "metadata": {},
     "output_type": "execute_result"
    }
   ],
   "source": [
    "from sklearn.model_selection import cross_val_score\n",
    "accuracy = cross_val_score(estimator = reg, X= X_test, y= Y_test, cv = 5)\n",
    "accuracy.mean()"
   ]
  },
  {
   "cell_type": "markdown",
   "metadata": {},
   "source": [
    "This model gives low accuracy as compared to the model with non colinear factors thus we can say that multi colinearity is bad for your model"
   ]
  },
  {
   "cell_type": "markdown",
   "metadata": {},
   "source": [
    "****"
   ]
  },
  {
   "cell_type": "markdown",
   "metadata": {},
   "source": [
    "**Model 2**"
   ]
  },
  {
   "cell_type": "code",
   "execution_count": 66,
   "metadata": {},
   "outputs": [],
   "source": [
    "df_white['Density_sugar']=df_white['density' ]* df_white['residual_sugar']\n",
    "features = ['Density_sugar','fixed_acidity', 'volatile_acidity', 'citric_acid', \n",
    "       'chlorides','free_sulfur_dioxide','total_sulfur_dioxide', 'pH', 'sulphates', 'alcohol']\n",
    "X = df_white[features]\n",
    "Y = df_white['quality']"
   ]
  },
  {
   "cell_type": "code",
   "execution_count": 67,
   "metadata": {},
   "outputs": [
    {
     "name": "stdout",
     "output_type": "stream",
     "text": [
      "(3918, 10)\n",
      "(980, 10)\n",
      "(3918,)\n",
      "(980,)\n"
     ]
    }
   ],
   "source": [
    "X_train, X_test, Y_train, Y_test = train_test_split(X, Y, test_size = 0.2)\n",
    "print(X_train.shape)\n",
    "print(X_test.shape)\n",
    "print(Y_train.shape)\n",
    "print(Y_test.shape)"
   ]
  },
  {
   "cell_type": "code",
   "execution_count": 68,
   "metadata": {},
   "outputs": [
    {
     "name": "stdout",
     "output_type": "stream",
     "text": [
      "0.6357142857142857\n"
     ]
    }
   ],
   "source": [
    "reg = LinearRegression()\n",
    "reg.fit(X_train, Y_train)\n",
    "pred=reg.predict(X_test)\n",
    "pred=np.round_(pred)\n",
    "print (mean_squared_error(Y_test,pred))"
   ]
  },
  {
   "cell_type": "markdown",
   "metadata": {},
   "source": [
    "This model gives low accuracy as compared to the model with non colinear factors thus we can say that multi colinearity is bad for your model"
   ]
  },
  {
   "cell_type": "code",
   "execution_count": 69,
   "metadata": {},
   "outputs": [
    {
     "data": {
      "text/html": [
       "<table class=\"simpletable\">\n",
       "<caption>OLS Regression Results</caption>\n",
       "<tr>\n",
       "  <th>Dep. Variable:</th>         <td>quality</td>     <th>  R-squared:         </th> <td>   0.984</td> \n",
       "</tr>\n",
       "<tr>\n",
       "  <th>Model:</th>                   <td>OLS</td>       <th>  Adj. R-squared:    </th> <td>   0.984</td> \n",
       "</tr>\n",
       "<tr>\n",
       "  <th>Method:</th>             <td>Least Squares</td>  <th>  F-statistic:       </th> <td>2.958e+04</td>\n",
       "</tr>\n",
       "<tr>\n",
       "  <th>Date:</th>             <td>Thu, 18 Apr 2019</td> <th>  Prob (F-statistic):</th>  <td>  0.00</td>  \n",
       "</tr>\n",
       "<tr>\n",
       "  <th>Time:</th>                 <td>12:01:49</td>     <th>  Log-Likelihood:    </th> <td> -5592.4</td> \n",
       "</tr>\n",
       "<tr>\n",
       "  <th>No. Observations:</th>      <td>  4898</td>      <th>  AIC:               </th> <td>1.120e+04</td>\n",
       "</tr>\n",
       "<tr>\n",
       "  <th>Df Residuals:</th>          <td>  4888</td>      <th>  BIC:               </th> <td>1.127e+04</td>\n",
       "</tr>\n",
       "<tr>\n",
       "  <th>Df Model:</th>              <td>    10</td>      <th>                     </th>     <td> </td>    \n",
       "</tr>\n",
       "<tr>\n",
       "  <th>Covariance Type:</th>      <td>nonrobust</td>    <th>                     </th>     <td> </td>    \n",
       "</tr>\n",
       "</table>\n",
       "<table class=\"simpletable\">\n",
       "<tr>\n",
       "            <td></td>              <th>coef</th>     <th>std err</th>      <th>t</th>      <th>P>|t|</th>  <th>[0.025</th>    <th>0.975]</th>  \n",
       "</tr>\n",
       "<tr>\n",
       "  <th>Density_sugar</th>        <td>    0.0298</td> <td>    0.002</td> <td>   12.106</td> <td> 0.000</td> <td>    0.025</td> <td>    0.035</td>\n",
       "</tr>\n",
       "<tr>\n",
       "  <th>fixed_acidity</th>        <td>    0.0025</td> <td>    0.012</td> <td>    0.212</td> <td> 0.832</td> <td>   -0.021</td> <td>    0.026</td>\n",
       "</tr>\n",
       "<tr>\n",
       "  <th>volatile_acidity</th>     <td>   -1.9130</td> <td>    0.114</td> <td>  -16.780</td> <td> 0.000</td> <td>   -2.136</td> <td>   -1.689</td>\n",
       "</tr>\n",
       "<tr>\n",
       "  <th>citric_acid</th>          <td>   -0.0175</td> <td>    0.096</td> <td>   -0.181</td> <td> 0.856</td> <td>   -0.207</td> <td>    0.172</td>\n",
       "</tr>\n",
       "<tr>\n",
       "  <th>chlorides</th>            <td>   -0.1618</td> <td>    0.528</td> <td>   -0.307</td> <td> 0.759</td> <td>   -1.196</td> <td>    0.873</td>\n",
       "</tr>\n",
       "<tr>\n",
       "  <th>free_sulfur_dioxide</th>  <td>    0.0052</td> <td>    0.001</td> <td>    6.146</td> <td> 0.000</td> <td>    0.004</td> <td>    0.007</td>\n",
       "</tr>\n",
       "<tr>\n",
       "  <th>total_sulfur_dioxide</th> <td>   -0.0009</td> <td>    0.000</td> <td>   -2.316</td> <td> 0.021</td> <td>   -0.002</td> <td>   -0.000</td>\n",
       "</tr>\n",
       "<tr>\n",
       "  <th>pH</th>                   <td>    0.5833</td> <td>    0.043</td> <td>   13.571</td> <td> 0.000</td> <td>    0.499</td> <td>    0.668</td>\n",
       "</tr>\n",
       "<tr>\n",
       "  <th>sulphates</th>            <td>    0.4181</td> <td>    0.098</td> <td>    4.282</td> <td> 0.000</td> <td>    0.227</td> <td>    0.610</td>\n",
       "</tr>\n",
       "<tr>\n",
       "  <th>alcohol</th>              <td>    0.3888</td> <td>    0.010</td> <td>   37.306</td> <td> 0.000</td> <td>    0.368</td> <td>    0.409</td>\n",
       "</tr>\n",
       "</table>\n",
       "<table class=\"simpletable\">\n",
       "<tr>\n",
       "  <th>Omnibus:</th>       <td>111.901</td> <th>  Durbin-Watson:     </th> <td>   1.621</td>\n",
       "</tr>\n",
       "<tr>\n",
       "  <th>Prob(Omnibus):</th> <td> 0.000</td>  <th>  Jarque-Bera (JB):  </th> <td> 252.485</td>\n",
       "</tr>\n",
       "<tr>\n",
       "  <th>Skew:</th>          <td> 0.030</td>  <th>  Prob(JB):          </th> <td>1.49e-55</td>\n",
       "</tr>\n",
       "<tr>\n",
       "  <th>Kurtosis:</th>      <td> 4.111</td>  <th>  Cond. No.          </th> <td>7.31e+03</td>\n",
       "</tr>\n",
       "</table><br/><br/>Warnings:<br/>[1] Standard Errors assume that the covariance matrix of the errors is correctly specified.<br/>[2] The condition number is large, 7.31e+03. This might indicate that there are<br/>strong multicollinearity or other numerical problems."
      ],
      "text/plain": [
       "<class 'statsmodels.iolib.summary.Summary'>\n",
       "\"\"\"\n",
       "                            OLS Regression Results                            \n",
       "==============================================================================\n",
       "Dep. Variable:                quality   R-squared:                       0.984\n",
       "Model:                            OLS   Adj. R-squared:                  0.984\n",
       "Method:                 Least Squares   F-statistic:                 2.958e+04\n",
       "Date:                Thu, 18 Apr 2019   Prob (F-statistic):               0.00\n",
       "Time:                        12:01:49   Log-Likelihood:                -5592.4\n",
       "No. Observations:                4898   AIC:                         1.120e+04\n",
       "Df Residuals:                    4888   BIC:                         1.127e+04\n",
       "Df Model:                          10                                         \n",
       "Covariance Type:            nonrobust                                         \n",
       "========================================================================================\n",
       "                           coef    std err          t      P>|t|      [0.025      0.975]\n",
       "----------------------------------------------------------------------------------------\n",
       "Density_sugar            0.0298      0.002     12.106      0.000       0.025       0.035\n",
       "fixed_acidity            0.0025      0.012      0.212      0.832      -0.021       0.026\n",
       "volatile_acidity        -1.9130      0.114    -16.780      0.000      -2.136      -1.689\n",
       "citric_acid             -0.0175      0.096     -0.181      0.856      -0.207       0.172\n",
       "chlorides               -0.1618      0.528     -0.307      0.759      -1.196       0.873\n",
       "free_sulfur_dioxide      0.0052      0.001      6.146      0.000       0.004       0.007\n",
       "total_sulfur_dioxide    -0.0009      0.000     -2.316      0.021      -0.002      -0.000\n",
       "pH                       0.5833      0.043     13.571      0.000       0.499       0.668\n",
       "sulphates                0.4181      0.098      4.282      0.000       0.227       0.610\n",
       "alcohol                  0.3888      0.010     37.306      0.000       0.368       0.409\n",
       "==============================================================================\n",
       "Omnibus:                      111.901   Durbin-Watson:                   1.621\n",
       "Prob(Omnibus):                  0.000   Jarque-Bera (JB):              252.485\n",
       "Skew:                           0.030   Prob(JB):                     1.49e-55\n",
       "Kurtosis:                       4.111   Cond. No.                     7.31e+03\n",
       "==============================================================================\n",
       "\n",
       "Warnings:\n",
       "[1] Standard Errors assume that the covariance matrix of the errors is correctly specified.\n",
       "[2] The condition number is large, 7.31e+03. This might indicate that there are\n",
       "strong multicollinearity or other numerical problems.\n",
       "\"\"\""
      ]
     },
     "execution_count": 69,
     "metadata": {},
     "output_type": "execute_result"
    }
   ],
   "source": [
    "m1 = sm.OLS(Y.astype(float), X.astype(float)).fit()\n",
    "m1.summary()"
   ]
  },
  {
   "cell_type": "code",
   "execution_count": 70,
   "metadata": {},
   "outputs": [
    {
     "data": {
      "text/plain": [
       "0.2310259984728896"
      ]
     },
     "execution_count": 70,
     "metadata": {},
     "output_type": "execute_result"
    }
   ],
   "source": [
    "from sklearn.model_selection import cross_val_score\n",
    "accuracy = cross_val_score(estimator = reg, X= X_test, y= Y_test, cv = 5)\n",
    "accuracy.mean()"
   ]
  },
  {
   "cell_type": "markdown",
   "metadata": {},
   "source": [
    "# <a id='7'>7. L2 Regularization</a>"
   ]
  },
  {
   "cell_type": "code",
   "execution_count": 71,
   "metadata": {},
   "outputs": [
    {
     "name": "stdout",
     "output_type": "stream",
     "text": [
      "MSE [0.69665353 0.59195149 0.57357746 0.54317895 0.5077289 ]\n",
      "Mean RMSE 0.7621896534167796\n",
      "RMS [0.83465773 0.76938384 0.75734897 0.73700675 0.71255098]\n"
     ]
    }
   ],
   "source": [
    "features = ['fixed_acidity', 'volatile_acidity', 'citric_acid', 'residual_sugar',\n",
    "       'chlorides', 'free_sulfur_dioxide', 'total_sulfur_dioxide', 'density',\n",
    "       'pH', 'sulphates', 'alcohol']\n",
    "x = df_white[features]\n",
    "y = df_white['quality']\n",
    "\n",
    "\n",
    "lmr = LinearRegression()\n",
    "\n",
    "ms_errors= cross_val_score(lmr, x, y, cv=5, scoring = make_scorer(mean_squared_error))\n",
    "rms_errors = np.sqrt(ms_errors)\n",
    "mean_rms_error = rms_errors.mean()\n",
    "\n",
    "print(\"MSE\",ms_errors)\n",
    "\n",
    "print(\"Mean RMSE\",mean_rms_error)\n",
    "print(\"RMS\",rms_errors)"
   ]
  },
  {
   "cell_type": "markdown",
   "metadata": {},
   "source": [
    "Ridge Regression is a technique for analyzing multiple regression data that suffer from multicollinearity."
   ]
  },
  {
   "cell_type": "code",
   "execution_count": 72,
   "metadata": {},
   "outputs": [
    {
     "data": {
      "text/plain": [
       "Ridge(alpha=0.5, copy_X=True, fit_intercept=True, max_iter=None,\n",
       "   normalize=False, random_state=None, solver='auto', tol=0.001)"
      ]
     },
     "execution_count": 72,
     "metadata": {},
     "output_type": "execute_result"
    }
   ],
   "source": [
    "# Ridge regression with an alpha of 0.5\n",
    "from sklearn.linear_model import LinearRegression, LogisticRegression, Ridge\n",
    "X_train, X_test, y_train, y_test = train_test_split( x, y, test_size=0.3, random_state=101)\n",
    "ridge = Ridge(fit_intercept=True, alpha=0.5)\n",
    "ridge.fit(X_train,y_train)"
   ]
  },
  {
   "cell_type": "code",
   "execution_count": 73,
   "metadata": {},
   "outputs": [
    {
     "data": {
      "text/plain": [
       "Text(0.5, 1.0, 'Ridge Regression - Quality vs Predicted Quality')"
      ]
     },
     "execution_count": 73,
     "metadata": {},
     "output_type": "execute_result"
    },
    {
     "data": {
      "image/png": "[encoded data removed]",
      "text/plain": [
       "<Figure size 432x288 with 1 Axes>"
      ]
     },
     "metadata": {},
     "output_type": "display_data"
    }
   ],
   "source": [
    "y_pred = ridge.predict(X_test)\n",
    "\n",
    "plt.scatter(y_test, y_pred)\n",
    "plt.xlabel(\"Quality\")\n",
    "plt.ylabel(\"Predicted Quality\")\n",
    "plt.title(\"Ridge Regression - Quality vs Predicted Quality\")"
   ]
  },
  {
   "cell_type": "code",
   "execution_count": 74,
   "metadata": {},
   "outputs": [],
   "source": [
    "rmse = np.sqrt(metrics.mean_squared_error(y_test, y_pred))\n",
    "ms_errors= cross_val_score(lmr, x, y, cv=5, scoring = make_scorer(mean_squared_error))\n",
    "rms_errors = np.sqrt(ms_errors)\n",
    "mean_rms_error = rms_errors.mean()"
   ]
  },
  {
   "cell_type": "code",
   "execution_count": 75,
   "metadata": {},
   "outputs": [
    {
     "name": "stdout",
     "output_type": "stream",
     "text": [
      "Method: Ridge Regression\n",
      "RMSE on no CV training: 0.760\n",
      "RMSE on 5-fold CV: 0.762\n",
      "0.23890973027677406\n"
     ]
    }
   ],
   "source": [
    "def show_stats(m, ncv, cv):\n",
    "  print('Method: %s' %m)\n",
    "  print('RMSE on no CV training: %.3f' %ncv)\n",
    "  print('RMSE on 5-fold CV: %.3f' %cv)\n",
    "show_stats('Ridge Regression',rmse ,mean_rms_error)\n",
    "r2 = cross_val_score(ridge, x,y,cv =5, scoring = make_scorer(r2_score))\n",
    "print(r2.mean())"
   ]
  },
  {
   "cell_type": "code",
   "execution_count": 76,
   "metadata": {},
   "outputs": [
    {
     "data": {
      "text/plain": [
       "<matplotlib.collections.PathCollection at 0x1c1b631a58>"
      ]
     },
     "execution_count": 76,
     "metadata": {},
     "output_type": "execute_result"
    },
    {
     "data": {
      "image/png": "[encoded data removed]",
      "text/plain": [
       "<Figure size 432x288 with 1 Axes>"
      ]
     },
     "metadata": {},
     "output_type": "display_data"
    }
   ],
   "source": [
    "X_train, X_test, y_train, y_test = train_test_split( x, y, test_size=0.3, random_state=101)\n",
    "p = lmr.fit(X_train,y_train)\n",
    "y_pred = p.predict(X_test)\n",
    "plt.scatter(y_test, y_pred)"
   ]
  },
  {
   "cell_type": "markdown",
   "metadata": {},
   "source": [
    "From the above performed ridge regression there wasn't much difference in the accuracy rate that is mean square thus the dataset is very accurate and the models build are perfectly fine."
   ]
  },
  {
   "cell_type": "markdown",
   "metadata": {},
   "source": [
    "# <a id='8'>8. Conclusion</a>"
   ]
  },
  {
   "cell_type": "markdown",
   "metadata": {},
   "source": [
    "**In the above-performed analysis we successfully designed linear models with great accuracy rate with respect logistic regression and very less mean squared error which is close to 0 in case of linear regression, we used the k fold to validate the data train and test, also performed stepwise regression to take away multi colinearity to avoid building faulty models. We used L2 regularization to perform and check if the model for linear regression is rightly build**"
   ]
  },
  {
   "cell_type": "markdown",
   "metadata": {},
   "source": [
    "****"
   ]
  },
  {
   "cell_type": "markdown",
   "metadata": {},
   "source": [
    "# <a id='9'>9. Contributions Statement</a>"
   ]
  },
  {
   "cell_type": "markdown",
   "metadata": {},
   "source": [
    "Approximately 70% of the code was referred from similar Kernel's from kaggle, 30% of the code was manipulated and written by me based on the documentations and citations."
   ]
  },
  {
   "cell_type": "markdown",
   "metadata": {},
   "source": [
    "****"
   ]
  },
  {
   "cell_type": "markdown",
   "metadata": {},
   "source": [
    "# <a id='10'>10. Citations</a>"
   ]
  },
  {
   "cell_type": "markdown",
   "metadata": {},
   "source": [
    "1. https://www.geeksforgeeks.org/python-for-data-science/ --> Method descriptions\n",
    "2. https://www.kaggle.com/ananthreddy/red-wine-quality-linear-regression  --> Similar Notebook\n",
    "3. https://www.kaggle.com/madhurisivalenka/basic-machine-learning-with-red-wine-quality-data --> Similar Notebook used for reference\n",
    "4. https://mode.com/python-tutorial/pandas-dataframe/     -> Python Documentation \n",
    "5. https://seaborn.pydata.org/  ->Seaborn Plots(Documentation)\n",
    "6. https://www.wikipedia.org/ -> Definitions\n",
    "7. https://pandas.pydata.org/pandas-docs/stable/ --> Pandas Documentation\n"
   ]
  },
  {
   "cell_type": "markdown",
   "metadata": {},
   "source": [
    "****"
   ]
  },
  {
   "cell_type": "markdown",
   "metadata": {},
   "source": [
    "# <a id='11'>11. License</a>"
   ]
  },
  {
   "cell_type": "markdown",
   "metadata": {},
   "source": [
    "Copyright 2019 Cassian Gonsalves\n",
    "\n",
    "Permission is hereby granted, free of charge, to any person obtaining a copy of this software and associated documentation files (the \"Software\"), to deal in the Software without restriction, including without limitation the rights to use, copy, modify, merge, publish, distribute, sublicense, and/or sell copies of the Software, and to permit persons to whom the Software is furnished to do so, subject to the following conditions:\n",
    "\n",
    "The above copyright notice and this permission notice shall be included in all copies or substantial portions of the Software.\n",
    "\n",
    "THE SOFTWARE IS PROVIDED \"AS IS\", WITHOUT WARRANTY OF ANY KIND, EXPRESS OR IMPLIED, INCLUDING BUT NOT LIMITED TO THE WARRANTIES OF MERCHANTABILITY, FITNESS FOR A PARTICULAR PURPOSE AND NONINFRINGEMENT. IN NO EVENT SHALL THE AUTHORS OR COPYRIGHT HOLDERS BE LIABLE FOR ANY CLAIM, DAMAGES OR OTHER LIABILITY, WHETHER IN AN ACTION OF CONTRACT, TORT OR OTHERWISE, ARISING FROM, OUT OF OR IN CONNECTION WITH THE SOFTWARE OR THE USE OR OTHER DEALINGS IN THE SOFTWARE."
   ]
  }
 ],
 "metadata": {
  "kernelspec": {
   "display_name": "Python 3",
   "language": "python",
   "name": "python3"
  },
  "language_info": {
   "codemirror_mode": {
    "name": "ipython",
    "version": 3
   },
   "file_extension": ".py",
   "mimetype": "text/x-python",
   "name": "python",
   "nbconvert_exporter": "python",
   "pygments_lexer": "ipython3",
   "version": "3.6.8"
  }
 },
 "nbformat": 4,
 "nbformat_minor": 2
}
